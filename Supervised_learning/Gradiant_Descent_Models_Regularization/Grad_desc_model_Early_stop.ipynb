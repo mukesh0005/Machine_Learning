{
 "cells": [
  {
   "attachments": {},
   "cell_type": "markdown",
   "metadata": {},
   "source": [
    "# Gradient Descent Models\n",
    "\n",
    "We will predict the price (`price` column) of an AirBNB dataset used last week.\n",
    "\n",
    "**Therefore, our unit of analysis is an AIRBNB LISTING**"
   ]
  },
  {
   "attachments": {},
   "cell_type": "markdown",
   "metadata": {},
   "source": [
    "## 1. Setup"
   ]
  },
  {
   "cell_type": "code",
   "execution_count": 1,
   "metadata": {},
   "outputs": [],
   "source": [
    "# Common imports\n",
    "import numpy as np\n",
    "import pandas as pd\n",
    "from sklearn.metrics import mean_squared_error\n",
    "from sklearn.linear_model import SGDRegressor \n",
    "from sklearn.dummy import DummyRegressor\n",
    "\n",
    "np.random.seed(1)"
   ]
  },
  {
   "attachments": {},
   "cell_type": "markdown",
   "metadata": {},
   "source": [
    "# 2. Load the data"
   ]
  },
  {
   "attachments": {},
   "cell_type": "markdown",
   "metadata": {},
   "source": [
    "We will use the AirBNB data that we cleaned in last class (the original, not the one that you altered for last weeks exercise)."
   ]
  },
  {
   "cell_type": "code",
   "execution_count": 2,
   "metadata": {},
   "outputs": [],
   "source": [
    "X_train = pd.read_csv(\"./data/airbnb_train_X_price.csv\")\n",
    "X_test = pd.read_csv(\"./data/airbnb_test_X_price.csv\")\n",
    "y_train = pd.read_csv(\"./data/airbnb_train_y_price.csv\")\n",
    "y_test = pd.read_csv(\"./data/airbnb_test_y_price.csv\")"
   ]
  },
  {
   "attachments": {},
   "cell_type": "markdown",
   "metadata": {},
   "source": [
    "## 3. Model the data\n",
    "\n",
    "First, we will create a dataframe to hold all the results of our models."
   ]
  },
  {
   "cell_type": "code",
   "execution_count": 3,
   "metadata": {},
   "outputs": [],
   "source": [
    "results = pd.DataFrame(y_train, columns=[\"actual\"])\n",
    "\n",
    "rmses = pd.DataFrame({\"model\": [], \"rmse\": []})"
   ]
  },
  {
   "attachments": {},
   "cell_type": "markdown",
   "metadata": {},
   "source": [
    "### 3.1 Fit and test the baseline Model"
   ]
  },
  {
   "cell_type": "code",
   "execution_count": 4,
   "metadata": {},
   "outputs": [],
   "source": [
    "dummy_reg = DummyRegressor(strategy=\"mean\")\n",
    "_ = dummy_reg.fit(X_train, y_train)\n",
    "\n",
    "results[\"dummy\"] = dummy_reg.predict(X_train)"
   ]
  },
  {
   "cell_type": "code",
   "execution_count": 5,
   "metadata": {},
   "outputs": [
    {
     "name": "stdout",
     "output_type": "stream",
     "text": [
      "Baseline Test RMSE: 102.625\n"
     ]
    }
   ],
   "source": [
    "#Baseline Test RMSE\n",
    "dummy_test_pred = dummy_reg.predict(X_test)\n",
    "dummy_test_rmse = np.sqrt(mean_squared_error(y_test, dummy_test_pred))\n",
    "\n",
    "rmses = pd.concat([rmses, pd.DataFrame({'model':\"baseline\", 'rmse': dummy_test_rmse}, index=[0])])\n",
    "\n",
    "print(f\"Baseline Test RMSE: {dummy_test_rmse:.3f}\")\n"
   ]
  },
  {
   "attachments": {},
   "cell_type": "markdown",
   "metadata": {},
   "source": [
    "### 3.2  Fit and test a Linear Regression Using Stochastic Gradient Descent"
   ]
  },
  {
   "cell_type": "code",
   "execution_count": 6,
   "metadata": {},
   "outputs": [
    {
     "name": "stdout",
     "output_type": "stream",
     "text": [
      "Number of iterations = 46\n"
     ]
    }
   ],
   "source": [
    "#Stochastic Gradient Descent:\n",
    "# https://scikit-learn.org/stable/modules/sgd.html\n",
    "# https://scikit-learn.org/stable/modules/generated/sklearn.linear_model.SGDRegressor.html#sklearn.linear_model.SGDRegressor\n",
    "\n",
    "\n",
    "# eta0 = learning rate\n",
    "# max_iter = number of passes over training data (i.e., epochs)\n",
    "\n",
    "sgd_reg = SGDRegressor(max_iter=100, penalty=None, eta0=0.01)\n",
    "sgd_reg.fit(X_train, np.ravel(y_train))\n",
    "\n",
    "print(f\"Number of iterations = {sgd_reg.n_iter_}\")\n",
    "\n",
    "results[\"SGD_preds\"] = sgd_reg.predict(X_train)"
   ]
  },
  {
   "cell_type": "code",
   "execution_count": 7,
   "metadata": {},
   "outputs": [
    {
     "name": "stdout",
     "output_type": "stream",
     "text": [
      "SGD Test RMSE: 65.459\n"
     ]
    }
   ],
   "source": [
    "#SGD Test RMSE\n",
    "SGD_test_pred = sgd_reg.predict(X_test)\n",
    "SGD_test_rmse = np.sqrt(mean_squared_error(y_test, SGD_test_pred))\n",
    "\n",
    "rmses = pd.concat([rmses, pd.DataFrame({'model':\"SGD\", 'rmse': SGD_test_rmse}, index=[0])])\n",
    "\n",
    "print(f\"SGD Test RMSE: {SGD_test_rmse:.3f}\")"
   ]
  },
  {
   "attachments": {},
   "cell_type": "markdown",
   "metadata": {},
   "source": [
    "### 3.3 Fit and test SGDRegression using L2 Regularization"
   ]
  },
  {
   "cell_type": "code",
   "execution_count": 8,
   "metadata": {},
   "outputs": [
    {
     "name": "stdout",
     "output_type": "stream",
     "text": [
      "Number of iterations = 62\n"
     ]
    }
   ],
   "source": [
    "#Stochastic Gradient with L2 regularization:\n",
    "\n",
    "# eta0 = learning rate\n",
    "# penalty = regularization term\n",
    "# alphe = regularization strength (lambda)\n",
    "# max_iter = number of passes over training data (i.e., epochs)\n",
    "\n",
    "sgd_reg_l2 = SGDRegressor(max_iter=100, penalty='l2', alpha = 0.1, eta0=0.01)\n",
    "_ = sgd_reg_l2.fit(X_train, np.ravel(y_train))\n",
    "\n",
    "print(f\"Number of iterations = {sgd_reg_l2.n_iter_}\")\n",
    "\n",
    "results[\"SGD_preds_l2\"] = sgd_reg_l2.predict(X_train)\n"
   ]
  },
  {
   "cell_type": "code",
   "execution_count": 9,
   "metadata": {},
   "outputs": [
    {
     "name": "stdout",
     "output_type": "stream",
     "text": [
      "SGD Test with l2 RMSE: 68.369\n"
     ]
    }
   ],
   "source": [
    "#Train RMSE\n",
    "#SGD Test RMSE\n",
    "SGD_test_pred_l2 = sgd_reg_l2.predict(X_test)\n",
    "SGD_test_rmse_l2 = np.sqrt(mean_squared_error(y_test, SGD_test_pred_l2))\n",
    "\n",
    "rmses = pd.concat([rmses, pd.DataFrame({'model':\"SGD L2\", 'rmse': SGD_test_rmse_l2}, index=[0])])\n",
    "\n",
    "print(f\"SGD Test with l2 RMSE: {SGD_test_rmse_l2:.3f}\")"
   ]
  },
  {
   "attachments": {},
   "cell_type": "markdown",
   "metadata": {},
   "source": [
    "### 3.4 Fit and test SGDRegression Using L1 Regularization"
   ]
  },
  {
   "cell_type": "code",
   "execution_count": 10,
   "metadata": {},
   "outputs": [
    {
     "name": "stdout",
     "output_type": "stream",
     "text": [
      "Number of iterations = 46\n"
     ]
    }
   ],
   "source": [
    "#Stochastic Gradient with L1 regularization:\n",
    "\n",
    "# eta0 = learning rate\n",
    "# penalty = regularization term\n",
    "# alphe = regularization strength (lambda)\n",
    "# max_iter = number of passes over training data (i.e., epochs)\n",
    "\n",
    "sgd_reg_l1 = SGDRegressor(max_iter=100, penalty='l1', alpha = 0.1, eta0=0.01)\n",
    "_ = sgd_reg_l1.fit(X_train, np.ravel(y_train))\n",
    "\n",
    "print(f\"Number of iterations = {sgd_reg_l1.n_iter_}\")\n",
    "\n",
    "results[\"SGD_preds_l1\"] = sgd_reg_l1.predict(X_train)"
   ]
  },
  {
   "cell_type": "code",
   "execution_count": 11,
   "metadata": {},
   "outputs": [
    {
     "name": "stdout",
     "output_type": "stream",
     "text": [
      "SGD with l1 Test RMSE: 65.730\n"
     ]
    }
   ],
   "source": [
    "#Train RMSE\n",
    "#SGD Test RMSE with L1\n",
    "SGD_test_pred_l1 = sgd_reg_l1.predict(X_test)\n",
    "SGD_test_rmse_l1 = np.sqrt(mean_squared_error(y_test, SGD_test_pred_l1))\n",
    "\n",
    "rmses = pd.concat([rmses, pd.DataFrame({'model':\"SGD L1\", 'rmse': SGD_test_rmse_l1}, index=[0])])\n",
    "\n",
    "print(f\"SGD with l1 Test RMSE: {SGD_test_rmse_l1:.3f}\")"
   ]
  },
  {
   "attachments": {},
   "cell_type": "markdown",
   "metadata": {},
   "source": [
    "### 3.5 Fit and test SGDRegression using ElasticNet Regularization"
   ]
  },
  {
   "cell_type": "code",
   "execution_count": 12,
   "metadata": {},
   "outputs": [
    {
     "name": "stdout",
     "output_type": "stream",
     "text": [
      "Number of iterations = 34\n"
     ]
    }
   ],
   "source": [
    "#Stochastic Gradient with Elastic Net regularization:\n",
    "\n",
    "# eta0 = learning rate\n",
    "# penalty = regularization term\n",
    "# alphe = regularization strength (lambda)\n",
    "# max_iter = number of passes over training data (i.e., epochs)\n",
    "\n",
    "sgd_reg_elastic = SGDRegressor(max_iter=100, penalty='elasticnet', l1_ratio=0.5, alpha = 0.1, eta0=0.01)\n",
    "sgd_reg_elastic.fit(X_train, np.ravel(y_train))\n",
    "\n",
    "print(f\"Number of iterations = {sgd_reg_elastic.n_iter_}\")\n",
    "\n",
    "results[\"SGD_preds_elastic\"] = sgd_reg_elastic.predict(X_train)"
   ]
  },
  {
   "cell_type": "code",
   "execution_count": 13,
   "metadata": {},
   "outputs": [
    {
     "name": "stdout",
     "output_type": "stream",
     "text": [
      "SGD wt ElasticNet Test RMSE: 67.579\n"
     ]
    }
   ],
   "source": [
    "#Train RMSE\n",
    "#SGD Test RMSE with ElasticNet\n",
    "SGD_test_pred_elastic = sgd_reg_elastic.predict(X_test)\n",
    "SGD_test_rmse_elastic = np.sqrt(mean_squared_error(y_test, SGD_test_pred_elastic))\n",
    "\n",
    "rmses = pd.concat([rmses, pd.DataFrame({'model':\"SGD Elastic\", 'rmse': SGD_test_rmse_elastic}, index=[0])])\n",
    "\n",
    "print(f\"SGD wt ElasticNet Test RMSE: {SGD_test_rmse_elastic:.3f}\")"
   ]
  },
  {
   "attachments": {},
   "cell_type": "markdown",
   "metadata": {},
   "source": [
    "### 3.6 Fit and test SGDRegression using Early Stopping "
   ]
  },
  {
   "cell_type": "code",
   "execution_count": 14,
   "metadata": {},
   "outputs": [
    {
     "name": "stdout",
     "output_type": "stream",
     "text": [
      "Number of iterations = 8\n"
     ]
    }
   ],
   "source": [
    "#Stochastic Gradient with Early Stopping regularization:\n",
    "# \n",
    "# # tol is the early stopping criteria\n",
    "\n",
    "sgd_reg_es = SGDRegressor(max_iter=500, early_stopping=True, n_iter_no_change=5, tol=0.0001, validation_fraction=0.2, eta0=0.01)\n",
    "sgd_reg_es.fit(X_train, np.ravel(y_train))\n",
    "\n",
    "print(f\"Number of iterations = {sgd_reg_es.n_iter_}\")\n",
    "\n",
    "results[\"SGD_preds_es\"] = sgd_reg_es.predict(X_train)"
   ]
  },
  {
   "cell_type": "code",
   "execution_count": 15,
   "metadata": {},
   "outputs": [
    {
     "name": "stdout",
     "output_type": "stream",
     "text": [
      "SGD wt Early Stopping Test RMSE: 68.107\n"
     ]
    }
   ],
   "source": [
    "#Train RMSE\n",
    "#SGD Test RMSE with Eaarly Stopping\n",
    "SGD_test_pred_es = sgd_reg_es.predict(X_test)\n",
    "SGD_test_rmse_es = np.sqrt(mean_squared_error(y_test, SGD_test_pred_es))\n",
    "\n",
    "rmses = pd.concat([rmses, pd.DataFrame({'model':\"SGD ES\", 'rmse': SGD_test_rmse_es}, index=[0])])\n",
    "\n",
    "print(f\"SGD wt Early Stopping Test RMSE: {SGD_test_rmse_es:.3f}\")"
   ]
  },
  {
   "attachments": {},
   "cell_type": "markdown",
   "metadata": {},
   "source": [
    "## 5.0 Summary"
   ]
  },
  {
   "cell_type": "code",
   "execution_count": 16,
   "metadata": {},
   "outputs": [
    {
     "data": {
      "text/html": [
       "<div>\n",
       "<style scoped>\n",
       "    .dataframe tbody tr th:only-of-type {\n",
       "        vertical-align: middle;\n",
       "    }\n",
       "\n",
       "    .dataframe tbody tr th {\n",
       "        vertical-align: top;\n",
       "    }\n",
       "\n",
       "    .dataframe thead th {\n",
       "        text-align: right;\n",
       "    }\n",
       "</style>\n",
       "<table border=\"1\" class=\"dataframe\">\n",
       "  <thead>\n",
       "    <tr style=\"text-align: right;\">\n",
       "      <th></th>\n",
       "      <th>model</th>\n",
       "      <th>rmse</th>\n",
       "    </tr>\n",
       "  </thead>\n",
       "  <tbody>\n",
       "    <tr>\n",
       "      <th>0</th>\n",
       "      <td>SGD</td>\n",
       "      <td>65.459018</td>\n",
       "    </tr>\n",
       "    <tr>\n",
       "      <th>0</th>\n",
       "      <td>SGD L1</td>\n",
       "      <td>65.730268</td>\n",
       "    </tr>\n",
       "    <tr>\n",
       "      <th>0</th>\n",
       "      <td>SGD Elastic</td>\n",
       "      <td>67.578949</td>\n",
       "    </tr>\n",
       "    <tr>\n",
       "      <th>0</th>\n",
       "      <td>SGD ES</td>\n",
       "      <td>68.107018</td>\n",
       "    </tr>\n",
       "    <tr>\n",
       "      <th>0</th>\n",
       "      <td>SGD L2</td>\n",
       "      <td>68.369405</td>\n",
       "    </tr>\n",
       "    <tr>\n",
       "      <th>0</th>\n",
       "      <td>baseline</td>\n",
       "      <td>102.625230</td>\n",
       "    </tr>\n",
       "  </tbody>\n",
       "</table>\n",
       "</div>"
      ],
      "text/plain": [
       "         model        rmse\n",
       "0          SGD   65.459018\n",
       "0       SGD L1   65.730268\n",
       "0  SGD Elastic   67.578949\n",
       "0       SGD ES   68.107018\n",
       "0       SGD L2   68.369405\n",
       "0     baseline  102.625230"
      ]
     },
     "execution_count": 16,
     "metadata": {},
     "output_type": "execute_result"
    }
   ],
   "source": [
    "rmses.sort_values(by=['rmse'])"
   ]
  }
 ],
 "metadata": {
  "kernelspec": {
   "display_name": "base",
   "language": "python",
   "name": "python3"
  },
  "language_info": {
   "codemirror_mode": {
    "name": "ipython",
    "version": 3
   },
   "file_extension": ".py",
   "mimetype": "text/x-python",
   "name": "python",
   "nbconvert_exporter": "python",
   "pygments_lexer": "ipython3",
   "version": "3.9.13"
  },
  "nav_menu": {
   "height": "279px",
   "width": "309px"
  },
  "toc": {
   "base_numbering": 1,
   "nav_menu": {},
   "number_sections": false,
   "sideBar": true,
   "skip_h1_title": false,
   "title_cell": "Table of Contents",
   "title_sidebar": "Contents",
   "toc_cell": false,
   "toc_position": {
    "height": "calc(100% - 180px)",
    "left": "10px",
    "top": "150px",
    "width": "283.398px"
   },
   "toc_section_display": "block",
   "toc_window_display": false
  },
  "varInspector": {
   "cols": {
    "lenName": 16,
    "lenType": 16,
    "lenVar": 40
   },
   "kernels_config": {
    "python": {
     "delete_cmd_postfix": "",
     "delete_cmd_prefix": "del ",
     "library": "var_list.py",
     "varRefreshCmd": "print(var_dic_list())"
    },
    "r": {
     "delete_cmd_postfix": ") ",
     "delete_cmd_prefix": "rm(",
     "library": "var_list.r",
     "varRefreshCmd": "cat(var_dic_list()) "
    }
   },
   "types_to_exclude": [
    "module",
    "function",
    "builtin_function_or_method",
    "instance",
    "_Feature"
   ],
   "window_display": false
  }
 },
 "nbformat": 4,
 "nbformat_minor": 4
}
