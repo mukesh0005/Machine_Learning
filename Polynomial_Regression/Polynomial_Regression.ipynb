{
 "cells": [
  {
   "attachments": {},
   "cell_type": "markdown",
   "metadata": {},
   "source": [
    "# Gradient Descent Models\n",
    "\n",
    "We will predict the price (`price` column) of an AirBNB dataset used last week.\n",
    "\n",
    "**Therefore, our unit of analysis is an AIRBNB LISTING**"
   ]
  },
  {
   "attachments": {},
   "cell_type": "markdown",
   "metadata": {},
   "source": [
    "## 1. Setup"
   ]
  },
  {
   "cell_type": "code",
   "execution_count": 1,
   "metadata": {},
   "outputs": [],
   "source": [
    "# Common imports\n",
    "import numpy as np\n",
    "import pandas as pd\n",
    "from sklearn.metrics import mean_squared_error\n",
    "from sklearn.linear_model import SGDRegressor \n",
    "from sklearn.dummy import DummyRegressor\n",
    "\n",
    "np.random.seed(1)"
   ]
  },
  {
   "attachments": {},
   "cell_type": "markdown",
   "metadata": {},
   "source": [
    "# 2. Load the data"
   ]
  },
  {
   "attachments": {},
   "cell_type": "markdown",
   "metadata": {},
   "source": [
    "We will use the AirBNB data that we cleaned in last class (the original, not the one that you altered for last weeks exercise)."
   ]
  },
  {
   "cell_type": "code",
   "execution_count": 2,
   "metadata": {},
   "outputs": [],
   "source": [
    "X_train = pd.read_csv(\"./data/airbnb_train_X_price.csv\")\n",
    "X_test = pd.read_csv(\"./data/airbnb_test_X_price.csv\")\n",
    "y_train = pd.read_csv(\"./data/airbnb_train_y_price.csv\")\n",
    "y_test = pd.read_csv(\"./data/airbnb_test_y_price.csv\")"
   ]
  },
  {
   "attachments": {},
   "cell_type": "markdown",
   "metadata": {},
   "source": [
    "## 3. Model the data\n",
    "\n",
    "First, we will create a dataframe to hold all the results of our models."
   ]
  },
  {
   "cell_type": "code",
   "execution_count": 3,
   "metadata": {},
   "outputs": [],
   "source": [
    "results = pd.DataFrame(y_train, columns=[\"actual\"])\n",
    "\n",
    "rmses = pd.DataFrame({\"model\": [], \"rmse\": []})"
   ]
  },
  {
   "attachments": {},
   "cell_type": "markdown",
   "metadata": {},
   "source": [
    "## Polynomial Regression\n",
    "\n",
    "This is done by creating the polynomial \"variables\" of the existing variables, then fitting them in a regular regression model"
   ]
  },
  {
   "cell_type": "code",
   "execution_count": 4,
   "metadata": {},
   "outputs": [],
   "source": [
    "from sklearn.preprocessing import PolynomialFeatures\n",
    "\n",
    "# Create second degree terms and interaction terms\n",
    "poly_features = PolynomialFeatures(degree=2).fit(X_train)\n",
    "X_train_poly = poly_features.transform(X_train)\n",
    "X_test_poly = poly_features.transform(X_test)\n",
    "\n",
    "#This will create the polynomial terms of the categorical variables too (since they are encoded as numbers)\n",
    "\n",
    "#if degree=3, then it creates all combinations: a, a^2, a^3, b, b^2, b^3, a.b, a^2.b, a.b^2, a^2.b^2 "
   ]
  },
  {
   "cell_type": "code",
   "execution_count": 5,
   "metadata": {},
   "outputs": [
    {
     "name": "stdout",
     "output_type": "stream",
     "text": [
      "Number of iterations = 17\n"
     ]
    }
   ],
   "source": [
    "#We still fit a linear regression model\n",
    "\n",
    "poly_lin_reg = SGDRegressor(max_iter=1000, penalty=None, eta0=0.01) \n",
    "poly_lin_reg.fit(X_train_poly, np.ravel(y_train))\n",
    "\n",
    "print(f\"Number of iterations = {poly_lin_reg.n_iter_}\")\n",
    "\n",
    "results[\"SGD_preds_ using polynomial\"] = poly_lin_reg.predict(X_train_poly)"
   ]
  },
  {
   "cell_type": "code",
   "execution_count": 6,
   "metadata": {},
   "outputs": [
    {
     "name": "stdout",
     "output_type": "stream",
     "text": [
      "SGD wt Polynomial input Test RMSE: 336317650987.969\n"
     ]
    }
   ],
   "source": [
    "# Train RMSE\n",
    "# SGD with polynomial input\n",
    "poly_test_pred = poly_lin_reg.predict(X_test_poly)\n",
    "poly_test_rmse = np.sqrt(mean_squared_error(y_test, poly_test_pred))\n",
    "\n",
    "rmses = pd.concat([rmses, pd.DataFrame({'model':\"SGD Poly\", 'rmse': poly_test_rmse}, index=[0])])\n",
    "\n",
    "print(f\"SGD wt Polynomial input Test RMSE: {poly_test_rmse:.3f}\")"
   ]
  },
  {
   "attachments": {},
   "cell_type": "markdown",
   "metadata": {},
   "source": []
  },
  {
   "attachments": {},
   "cell_type": "markdown",
   "metadata": {},
   "source": [
    "The RMSE result from the polynomial is very large, a strong indicator that this may not be a good model. The problem is most likely related to having mamy coeficients that are not significant. We can use Lasso to reduce the size of some of the coeficients, or reduce the degree of the polynomial."
   ]
  },
  {
   "cell_type": "code",
   "execution_count": 7,
   "metadata": {},
   "outputs": [
    {
     "name": "stdout",
     "output_type": "stream",
     "text": [
      "Number of iterations = 17\n",
      "SGD wt Polynomial input l1 regularization Test RMSE: 1265935928719.893\n"
     ]
    }
   ],
   "source": [
    "poly_lin_reg_l1 = SGDRegressor(max_iter=1000, penalty='l1', alpha=0.5,  eta0=0.01) \n",
    "poly_lin_reg_l1.fit(X_train_poly, np.ravel(y_train))\n",
    "\n",
    "print(f\"Number of iterations = {poly_lin_reg_l1.n_iter_}\")\n",
    "\n",
    "results[\"SGD_preds_ using polynomial with l1\"] = poly_lin_reg_l1.predict(X_train_poly)\n",
    "\n",
    "poly_test_pred_l1 = poly_lin_reg_l1.predict(X_test_poly)\n",
    "poly_test_rmse_l1 = np.sqrt(mean_squared_error(y_test, poly_test_pred_l1))\n",
    "\n",
    "rmses = pd.concat([rmses, pd.DataFrame({'model':\"SGD Poly l1\", 'rmse': poly_test_rmse_l1}, index=[0])])\n",
    "\n",
    "print(f\"SGD wt Polynomial input l1 regularization Test RMSE: {poly_test_rmse_l1:.3f}\")"
   ]
  },
  {
   "cell_type": "code",
   "execution_count": 8,
   "metadata": {},
   "outputs": [
    {
     "name": "stdout",
     "output_type": "stream",
     "text": [
      "Number of iterations = 6\n",
      "SGD wt Polynomial input l2 regularization Test RMSE: 1326427286336.276\n"
     ]
    }
   ],
   "source": [
    "poly_lin_reg_l2 = SGDRegressor(max_iter=1000, penalty='l2', alpha=0.5,  eta0=0.01) \n",
    "poly_lin_reg_l2.fit(X_train_poly, np.ravel(y_train))\n",
    "\n",
    "print(f\"Number of iterations = {poly_lin_reg_l2.n_iter_}\")\n",
    "\n",
    "results[\"SGD_preds_ using polynomial with l2\"] = poly_lin_reg_l2.predict(X_train_poly)\n",
    "\n",
    "poly_test_pred_l2 = poly_lin_reg_l2.predict(X_test_poly)\n",
    "poly_test_rmse_l2 = np.sqrt(mean_squared_error(y_test, poly_test_pred_l2))\n",
    "\n",
    "rmses = pd.concat([rmses, pd.DataFrame({'model':\"SGD Poly l2\", 'rmse': poly_test_rmse_l2}, index=[0])])\n",
    "\n",
    "print(f\"SGD wt Polynomial input l2 regularization Test RMSE: {poly_test_rmse_l2:.3f}\")"
   ]
  },
  {
   "cell_type": "code",
   "execution_count": 9,
   "metadata": {},
   "outputs": [
    {
     "name": "stdout",
     "output_type": "stream",
     "text": [
      "Number of iterations = 6\n",
      "SGD wt Polynomial input elastic net regularization Test RMSE: 772683365718.655\n"
     ]
    }
   ],
   "source": [
    "poly_lin_reg_elastic = SGDRegressor(max_iter=1000, penalty='elasticnet', l1_ratio=.5, alpha=0.5,  eta0=0.01) \n",
    "poly_lin_reg_elastic.fit(X_train_poly, np.ravel(y_train))\n",
    "\n",
    "print(f\"Number of iterations = {poly_lin_reg_elastic.n_iter_}\")\n",
    "\n",
    "results[\"SGD_preds_ using polynomial with elastic net\"] = poly_lin_reg_elastic.predict(X_train_poly)\n",
    "\n",
    "poly_test_pred_elastic = poly_lin_reg_elastic.predict(X_test_poly)\n",
    "poly_test_rmse_elastic= np.sqrt(mean_squared_error(y_test, poly_test_pred_elastic))\n",
    "\n",
    "rmses = pd.concat([rmses, pd.DataFrame({'model':\"SGD Poly elastic\", 'rmse': poly_test_rmse_elastic}, index=[0])])\n",
    "\n",
    "print(f\"SGD wt Polynomial input elastic net regularization Test RMSE: {poly_test_rmse_elastic:.3f}\")"
   ]
  },
  {
   "attachments": {},
   "cell_type": "markdown",
   "metadata": {},
   "source": [
    "## 5.0 Summary"
   ]
  },
  {
   "cell_type": "code",
   "execution_count": 10,
   "metadata": {},
   "outputs": [
    {
     "data": {
      "text/html": [
       "<div>\n",
       "<style scoped>\n",
       "    .dataframe tbody tr th:only-of-type {\n",
       "        vertical-align: middle;\n",
       "    }\n",
       "\n",
       "    .dataframe tbody tr th {\n",
       "        vertical-align: top;\n",
       "    }\n",
       "\n",
       "    .dataframe thead th {\n",
       "        text-align: right;\n",
       "    }\n",
       "</style>\n",
       "<table border=\"1\" class=\"dataframe\">\n",
       "  <thead>\n",
       "    <tr style=\"text-align: right;\">\n",
       "      <th></th>\n",
       "      <th>model</th>\n",
       "      <th>rmse</th>\n",
       "    </tr>\n",
       "  </thead>\n",
       "  <tbody>\n",
       "    <tr>\n",
       "      <th>0</th>\n",
       "      <td>SGD Poly</td>\n",
       "      <td>3.363177e+11</td>\n",
       "    </tr>\n",
       "    <tr>\n",
       "      <th>0</th>\n",
       "      <td>SGD Poly elastic</td>\n",
       "      <td>7.726834e+11</td>\n",
       "    </tr>\n",
       "    <tr>\n",
       "      <th>0</th>\n",
       "      <td>SGD Poly l1</td>\n",
       "      <td>1.265936e+12</td>\n",
       "    </tr>\n",
       "    <tr>\n",
       "      <th>0</th>\n",
       "      <td>SGD Poly l2</td>\n",
       "      <td>1.326427e+12</td>\n",
       "    </tr>\n",
       "  </tbody>\n",
       "</table>\n",
       "</div>"
      ],
      "text/plain": [
       "              model          rmse\n",
       "0          SGD Poly  3.363177e+11\n",
       "0  SGD Poly elastic  7.726834e+11\n",
       "0       SGD Poly l1  1.265936e+12\n",
       "0       SGD Poly l2  1.326427e+12"
      ]
     },
     "execution_count": 10,
     "metadata": {},
     "output_type": "execute_result"
    }
   ],
   "source": [
    "rmses.sort_values(by=['rmse'])"
   ]
  },
  {
   "attachments": {},
   "cell_type": "markdown",
   "metadata": {},
   "source": [
    "Since the RSME for SGD Poly basic model without any Regularization is less we can say that this model is better performing model than others"
   ]
  }
 ],
 "metadata": {
  "kernelspec": {
   "display_name": "base",
   "language": "python",
   "name": "python3"
  },
  "language_info": {
   "codemirror_mode": {
    "name": "ipython",
    "version": 3
   },
   "file_extension": ".py",
   "mimetype": "text/x-python",
   "name": "python",
   "nbconvert_exporter": "python",
   "pygments_lexer": "ipython3",
   "version": "3.9.13"
  },
  "nav_menu": {
   "height": "279px",
   "width": "309px"
  },
  "toc": {
   "base_numbering": 1,
   "nav_menu": {},
   "number_sections": false,
   "sideBar": true,
   "skip_h1_title": false,
   "title_cell": "Table of Contents",
   "title_sidebar": "Contents",
   "toc_cell": false,
   "toc_position": {
    "height": "calc(100% - 180px)",
    "left": "10px",
    "top": "150px",
    "width": "283.398px"
   },
   "toc_section_display": "block",
   "toc_window_display": false
  },
  "varInspector": {
   "cols": {
    "lenName": 16,
    "lenType": 16,
    "lenVar": 40
   },
   "kernels_config": {
    "python": {
     "delete_cmd_postfix": "",
     "delete_cmd_prefix": "del ",
     "library": "var_list.py",
     "varRefreshCmd": "print(var_dic_list())"
    },
    "r": {
     "delete_cmd_postfix": ") ",
     "delete_cmd_prefix": "rm(",
     "library": "var_list.r",
     "varRefreshCmd": "cat(var_dic_list()) "
    }
   },
   "types_to_exclude": [
    "module",
    "function",
    "builtin_function_or_method",
    "instance",
    "_Feature"
   ],
   "window_display": false
  }
 },
 "nbformat": 4,
 "nbformat_minor": 4
}
