{
 "cells": [
  {
   "attachments": {},
   "cell_type": "markdown",
   "metadata": {},
   "source": [
    "##  GRU"
   ]
  },
  {
   "attachments": {},
   "cell_type": "markdown",
   "metadata": {},
   "source": [
    "### Load data"
   ]
  },
  {
   "cell_type": "code",
   "execution_count": 20,
   "metadata": {},
   "outputs": [],
   "source": [
    "import numpy as np\n",
    "import tensorflow as tf\n",
    "from tensorflow import keras\n",
    "import pandas as pd\n",
    "\n",
    "np.random.seed(1)\n",
    "tf.random.set_seed(1)"
   ]
  },
  {
   "cell_type": "code",
   "execution_count": 21,
   "metadata": {},
   "outputs": [],
   "source": [
    "X_test = pd.read_csv('data/bb_test_X.csv')\n",
    "y_test = pd.read_csv('data/bb_test_y.csv')\n",
    "X_train = pd.read_csv('data/bb_train_X.csv')\n",
    "y_train = pd.read_csv('data/bb_train_y.csv')"
   ]
  },
  {
   "attachments": {},
   "cell_type": "markdown",
   "metadata": {},
   "source": [
    "## Data Transformation"
   ]
  },
  {
   "cell_type": "code",
   "execution_count": 22,
   "metadata": {},
   "outputs": [],
   "source": [
    "#Target variables need to be an array with integer type\n",
    "y_train = np.array(y_train)\n",
    "y_test = np.array(y_test)\n",
    "\n",
    "y_train = y_train.astype(np.int32)\n",
    "y_test = y_test.astype(np.int32)"
   ]
  },
  {
   "cell_type": "code",
   "execution_count": 23,
   "metadata": {
    "scrolled": true
   },
   "outputs": [
    {
     "data": {
      "text/plain": [
       "array([[0],\n",
       "       [1],\n",
       "       [1],\n",
       "       [1],\n",
       "       [1],\n",
       "       [1],\n",
       "       [0],\n",
       "       [0],\n",
       "       [0],\n",
       "       [0]])"
      ]
     },
     "execution_count": 23,
     "metadata": {},
     "output_type": "execute_result"
    }
   ],
   "source": [
    "#Check the first 10 values of the train_y data set\n",
    "y_train[0:10]"
   ]
  },
  {
   "cell_type": "code",
   "execution_count": 24,
   "metadata": {},
   "outputs": [],
   "source": [
    "#Convert input variables to a 2-D array with float data type\n",
    "X_train = np.array(X_train)\n",
    "X_test = np.array(X_test)\n",
    "\n",
    "X_train = X_train.astype(np.float32)\n",
    "X_test = X_test.astype(np.float32)"
   ]
  },
  {
   "cell_type": "code",
   "execution_count": 25,
   "metadata": {},
   "outputs": [
    {
     "data": {
      "text/plain": [
       "array([[ -3.,  -3.,  -2., ...,  -5.,  -3.,  -7.],\n",
       "       [  0.,   1.,  -1., ...,  10.,  12.,  15.],\n",
       "       [ -3.,  -2.,  -2., ...,  14.,  12.,  12.],\n",
       "       ...,\n",
       "       [  2.,   6.,   8., ...,  -2.,   1.,   0.],\n",
       "       [ -2.,   1.,  -1., ..., -19., -21., -14.],\n",
       "       [  2.,   1.,   3., ...,   0.,   2.,   4.]], dtype=float32)"
      ]
     },
     "execution_count": 25,
     "metadata": {},
     "output_type": "execute_result"
    }
   ],
   "source": [
    "X_train"
   ]
  },
  {
   "cell_type": "code",
   "execution_count": 26,
   "metadata": {},
   "outputs": [],
   "source": [
    "#Keras expects a different input format:\n",
    "#Data needs to have 3 dimensions\n",
    "\n",
    "X_train = np.reshape(X_train, (X_train.shape[0], X_train.shape[1], 1))\n",
    "X_test = np.reshape(X_test, (X_test.shape[0], X_test.shape[1], 1))"
   ]
  },
  {
   "cell_type": "code",
   "execution_count": 27,
   "metadata": {},
   "outputs": [
    {
     "data": {
      "text/plain": [
       "((861, 36, 1), (861, 1))"
      ]
     },
     "execution_count": 27,
     "metadata": {},
     "output_type": "execute_result"
    }
   ],
   "source": [
    "X_train.shape, y_train.shape"
   ]
  },
  {
   "cell_type": "code",
   "execution_count": 28,
   "metadata": {},
   "outputs": [
    {
     "data": {
      "text/plain": [
       "array([[[ -3.],\n",
       "        [ -3.],\n",
       "        [ -2.],\n",
       "        ...,\n",
       "        [ -5.],\n",
       "        [ -3.],\n",
       "        [ -7.]],\n",
       "\n",
       "       [[  0.],\n",
       "        [  1.],\n",
       "        [ -1.],\n",
       "        ...,\n",
       "        [ 10.],\n",
       "        [ 12.],\n",
       "        [ 15.]],\n",
       "\n",
       "       [[ -3.],\n",
       "        [ -2.],\n",
       "        [ -2.],\n",
       "        ...,\n",
       "        [ 14.],\n",
       "        [ 12.],\n",
       "        [ 12.]],\n",
       "\n",
       "       ...,\n",
       "\n",
       "       [[  2.],\n",
       "        [  6.],\n",
       "        [  8.],\n",
       "        ...,\n",
       "        [ -2.],\n",
       "        [  1.],\n",
       "        [  0.]],\n",
       "\n",
       "       [[ -2.],\n",
       "        [  1.],\n",
       "        [ -1.],\n",
       "        ...,\n",
       "        [-19.],\n",
       "        [-21.],\n",
       "        [-14.]],\n",
       "\n",
       "       [[  2.],\n",
       "        [  1.],\n",
       "        [  3.],\n",
       "        ...,\n",
       "        [  0.],\n",
       "        [  2.],\n",
       "        [  4.]]], dtype=float32)"
      ]
     },
     "execution_count": 28,
     "metadata": {},
     "output_type": "execute_result"
    }
   ],
   "source": [
    "X_train"
   ]
  },
  {
   "attachments": {},
   "cell_type": "markdown",
   "metadata": {},
   "source": [
    "# Conv1D with one layer"
   ]
  },
  {
   "cell_type": "code",
   "execution_count": 29,
   "metadata": {},
   "outputs": [],
   "source": [
    "n_steps = 36\n",
    "n_inputs = 1\n",
    "\n",
    "model = keras.models.Sequential([\n",
    "    keras.layers.Conv1D(filters=10, kernel_size=3, strides=2, padding=\"valid\", input_shape=[n_steps, n_inputs]),\n",
    "    keras.layers.Dense(1, activation='sigmoid')\n",
    "])"
   ]
  },
  {
   "cell_type": "code",
   "execution_count": 30,
   "metadata": {
    "scrolled": true
   },
   "outputs": [
    {
     "name": "stdout",
     "output_type": "stream",
     "text": [
      "Epoch 1/20\n",
      "27/27 [==============================] - 1s 8ms/step - loss: 0.6442 - accuracy: 0.6324 - val_loss: 0.5710 - val_accuracy: 0.6912\n",
      "Epoch 2/20\n",
      "27/27 [==============================] - 0s 5ms/step - loss: 0.5945 - accuracy: 0.6727 - val_loss: 0.5642 - val_accuracy: 0.6978\n",
      "Epoch 3/20\n",
      "27/27 [==============================] - 0s 12ms/step - loss: 0.5943 - accuracy: 0.6774 - val_loss: 0.5597 - val_accuracy: 0.7005\n",
      "Epoch 4/20\n",
      "27/27 [==============================] - 0s 8ms/step - loss: 0.5907 - accuracy: 0.6772 - val_loss: 0.5639 - val_accuracy: 0.7032\n",
      "Epoch 5/20\n",
      "27/27 [==============================] - 0s 10ms/step - loss: 0.5911 - accuracy: 0.6783 - val_loss: 0.5606 - val_accuracy: 0.7017\n",
      "Epoch 6/20\n",
      "27/27 [==============================] - 0s 3ms/step - loss: 0.5909 - accuracy: 0.6781 - val_loss: 0.5590 - val_accuracy: 0.7016\n",
      "Epoch 7/20\n",
      "27/27 [==============================] - 0s 4ms/step - loss: 0.5925 - accuracy: 0.6758 - val_loss: 0.5591 - val_accuracy: 0.7019\n",
      "Epoch 8/20\n",
      "27/27 [==============================] - 0s 3ms/step - loss: 0.5902 - accuracy: 0.6790 - val_loss: 0.5604 - val_accuracy: 0.7017\n",
      "Epoch 9/20\n",
      "27/27 [==============================] - 0s 13ms/step - loss: 0.5900 - accuracy: 0.6782 - val_loss: 0.5646 - val_accuracy: 0.6997\n",
      "Epoch 10/20\n",
      "27/27 [==============================] - 0s 3ms/step - loss: 0.5888 - accuracy: 0.6800 - val_loss: 0.5636 - val_accuracy: 0.7009\n",
      "Epoch 11/20\n",
      "27/27 [==============================] - 0s 3ms/step - loss: 0.5898 - accuracy: 0.6786 - val_loss: 0.5620 - val_accuracy: 0.7003\n",
      "Epoch 11: early stopping\n"
     ]
    }
   ],
   "source": [
    "from tensorflow.keras.callbacks import EarlyStopping\n",
    "\n",
    "early_stop = EarlyStopping(monitor='val_loss', patience=5, verbose=1, mode='auto')\n",
    "\n",
    "np.random.seed(42)\n",
    "tf.random.set_seed(42)\n",
    "\n",
    "optimizer = keras.optimizers.Nadam(learning_rate=0.01)\n",
    "\n",
    "model.compile(loss=\"binary_crossentropy\", optimizer=optimizer, metrics=['accuracy'])\n",
    "\n",
    "history = model.fit(\n",
    "    X_train, \n",
    "    y_train, \n",
    "    epochs=20,\n",
    "    validation_data=(X_test, y_test),\n",
    "    callbacks=[early_stop]) # we defined this early_stop callback function earlier"
   ]
  },
  {
   "cell_type": "code",
   "execution_count": 31,
   "metadata": {},
   "outputs": [
    {
     "data": {
      "text/plain": [
       "[0.5619614720344543, 0.7003028988838196]"
      ]
     },
     "execution_count": 31,
     "metadata": {},
     "output_type": "execute_result"
    }
   ],
   "source": [
    "# evaluate the model\n",
    "\n",
    "scores = model.evaluate(X_test, y_test, verbose=0)\n",
    "scores\n",
    "\n",
    "# In results, first is loss, second is accuracy"
   ]
  },
  {
   "cell_type": "code",
   "execution_count": 32,
   "metadata": {
    "scrolled": true
   },
   "outputs": [
    {
     "name": "stdout",
     "output_type": "stream",
     "text": [
      "loss: 0.56\n",
      "accuracy: 70.03\n"
     ]
    }
   ],
   "source": [
    "# extract the accuracy from model.evaluate\n",
    "print(f\"{model.metrics_names[0]:s}: {scores[0]:.2f}\")\n",
    "print(f\"{model.metrics_names[1]:s}: {scores[1]*100:.2f}\")"
   ]
  },
  {
   "attachments": {},
   "cell_type": "markdown",
   "metadata": {},
   "source": [
    "# Conv1D with more layers"
   ]
  },
  {
   "cell_type": "code",
   "execution_count": 33,
   "metadata": {},
   "outputs": [],
   "source": [
    "n_steps = 36\n",
    "n_inputs = 1\n",
    "\n",
    "model = keras.models.Sequential([\n",
    "    keras.layers.Conv1D(filters=10, kernel_size=3, strides=2, padding=\"valid\", input_shape=[n_steps, n_inputs]),\n",
    "    keras.layers.Conv1D(filters=20, kernel_size=3, strides=1, padding=\"valid\", dilation_rate=2),\n",
    "    keras.layers.LSTM(32, return_sequences=True),\n",
    "    keras.layers.LSTM(32),\n",
    "    keras.layers.Dense(1, activation='sigmoid')\n",
    "])"
   ]
  },
  {
   "cell_type": "code",
   "execution_count": 34,
   "metadata": {
    "scrolled": true
   },
   "outputs": [
    {
     "name": "stdout",
     "output_type": "stream",
     "text": [
      "Epoch 1/20\n",
      "27/27 [==============================] - 4s 38ms/step - loss: 0.5132 - accuracy: 0.7468 - val_loss: 0.4235 - val_accuracy: 0.8076\n",
      "Epoch 2/20\n",
      "27/27 [==============================] - 1s 29ms/step - loss: 0.4522 - accuracy: 0.7828 - val_loss: 0.4283 - val_accuracy: 0.8049\n",
      "Epoch 3/20\n",
      "27/27 [==============================] - 1s 42ms/step - loss: 0.4364 - accuracy: 0.7875 - val_loss: 0.4214 - val_accuracy: 0.8103\n",
      "Epoch 4/20\n",
      "27/27 [==============================] - 1s 47ms/step - loss: 0.4257 - accuracy: 0.7886 - val_loss: 0.4195 - val_accuracy: 0.8049\n",
      "Epoch 5/20\n",
      "27/27 [==============================] - 1s 45ms/step - loss: 0.4226 - accuracy: 0.8060 - val_loss: 0.4393 - val_accuracy: 0.7832\n",
      "Epoch 6/20\n",
      "27/27 [==============================] - 1s 54ms/step - loss: 0.3997 - accuracy: 0.7979 - val_loss: 0.4624 - val_accuracy: 0.7507\n",
      "Epoch 7/20\n",
      "27/27 [==============================] - 1s 53ms/step - loss: 0.3979 - accuracy: 0.8246 - val_loss: 0.4524 - val_accuracy: 0.7751\n",
      "Epoch 8/20\n",
      "27/27 [==============================] - 1s 40ms/step - loss: 0.3757 - accuracy: 0.8351 - val_loss: 0.5038 - val_accuracy: 0.7480\n",
      "Epoch 9/20\n",
      "27/27 [==============================] - 1s 46ms/step - loss: 0.3303 - accuracy: 0.8630 - val_loss: 0.5337 - val_accuracy: 0.7344\n",
      "Epoch 9: early stopping\n"
     ]
    }
   ],
   "source": [
    "np.random.seed(42)\n",
    "tf.random.set_seed(42)\n",
    "\n",
    "optimizer = keras.optimizers.Nadam(learning_rate=0.01)\n",
    "\n",
    "model.compile(loss=\"binary_crossentropy\", optimizer=optimizer, metrics=['accuracy'])\n",
    "\n",
    "history = model.fit(\n",
    "    X_train, \n",
    "    y_train, \n",
    "    epochs=20,\n",
    "    validation_data=(X_test, y_test), \n",
    "    callbacks=[early_stop] # we defined this early_stop callback function earlier\n",
    ")"
   ]
  },
  {
   "cell_type": "code",
   "execution_count": 35,
   "metadata": {},
   "outputs": [
    {
     "data": {
      "text/plain": [
       "[0.5336984992027283, 0.7344173192977905]"
      ]
     },
     "execution_count": 35,
     "metadata": {},
     "output_type": "execute_result"
    }
   ],
   "source": [
    "# evaluate the model\n",
    "\n",
    "scores = model.evaluate(X_test, y_test, verbose=0)\n",
    "scores\n",
    "\n",
    "# In results, first is loss, second is accuracy"
   ]
  },
  {
   "cell_type": "code",
   "execution_count": 36,
   "metadata": {
    "scrolled": true
   },
   "outputs": [
    {
     "name": "stdout",
     "output_type": "stream",
     "text": [
      "loss: 0.53\n",
      "accuracy: 73.44%\n"
     ]
    }
   ],
   "source": [
    "# extract the accuracy from model.evaluate\n",
    "\n",
    "print(\"%s: %.2f\" % (model.metrics_names[0], scores[0]))\n",
    "print(\"%s: %.2f%%\" % (model.metrics_names[1], scores[1]*100))\n"
   ]
  }
 ],
 "metadata": {
  "kernelspec": {
   "display_name": "Python 3 (ipykernel)",
   "language": "python",
   "name": "python3"
  },
  "language_info": {
   "codemirror_mode": {
    "name": "ipython",
    "version": 3
   },
   "file_extension": ".py",
   "mimetype": "text/x-python",
   "name": "python",
   "nbconvert_exporter": "python",
   "pygments_lexer": "ipython3",
   "version": "3.9.13"
  },
  "nav_menu": {},
  "toc": {
   "base_numbering": 1,
   "nav_menu": {},
   "number_sections": false,
   "sideBar": true,
   "skip_h1_title": false,
   "title_cell": "Table of Contents",
   "title_sidebar": "Contents",
   "toc_cell": false,
   "toc_position": {
    "height": "calc(100% - 180px)",
    "left": "10px",
    "top": "150px",
    "width": "288px"
   },
   "toc_section_display": "block",
   "toc_window_display": true
  },
  "varInspector": {
   "cols": {
    "lenName": 16,
    "lenType": 16,
    "lenVar": 40
   },
   "kernels_config": {
    "python": {
     "delete_cmd_postfix": "",
     "delete_cmd_prefix": "del ",
     "library": "var_list.py",
     "varRefreshCmd": "print(var_dic_list())"
    },
    "r": {
     "delete_cmd_postfix": ") ",
     "delete_cmd_prefix": "rm(",
     "library": "var_list.r",
     "varRefreshCmd": "cat(var_dic_list()) "
    }
   },
   "types_to_exclude": [
    "module",
    "function",
    "builtin_function_or_method",
    "instance",
    "_Feature"
   ],
   "window_display": false
  }
 },
 "nbformat": 4,
 "nbformat_minor": 1
}
