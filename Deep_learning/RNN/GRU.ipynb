{
 "cells": [
  {
   "attachments": {},
   "cell_type": "markdown",
   "metadata": {},
   "source": [
    "##  GRU"
   ]
  },
  {
   "attachments": {},
   "cell_type": "markdown",
   "metadata": {},
   "source": [
    "### Load data"
   ]
  },
  {
   "cell_type": "code",
   "execution_count": 1,
   "metadata": {},
   "outputs": [],
   "source": [
    "import numpy as np\n",
    "import tensorflow as tf\n",
    "from tensorflow import keras\n",
    "import pandas as pd\n",
    "\n",
    "np.random.seed(1)\n",
    "tf.random.set_seed(1)"
   ]
  },
  {
   "cell_type": "code",
   "execution_count": 2,
   "metadata": {},
   "outputs": [],
   "source": [
    "X_test = pd.read_csv('data/bb_test_X.csv')\n",
    "y_test = pd.read_csv('data/bb_test_y.csv')\n",
    "X_train = pd.read_csv('data/bb_train_X.csv')\n",
    "y_train = pd.read_csv('data/bb_train_y.csv')"
   ]
  },
  {
   "attachments": {},
   "cell_type": "markdown",
   "metadata": {},
   "source": [
    "## Data Transformation"
   ]
  },
  {
   "cell_type": "code",
   "execution_count": 3,
   "metadata": {},
   "outputs": [],
   "source": [
    "#Target variables need to be an array with integer type\n",
    "y_train = np.array(y_train)\n",
    "y_test = np.array(y_test)\n",
    "\n",
    "y_train = y_train.astype(np.int32)\n",
    "y_test = y_test.astype(np.int32)"
   ]
  },
  {
   "cell_type": "code",
   "execution_count": 4,
   "metadata": {
    "scrolled": true
   },
   "outputs": [
    {
     "data": {
      "text/plain": [
       "array([[0],\n",
       "       [1],\n",
       "       [1],\n",
       "       [1],\n",
       "       [1],\n",
       "       [1],\n",
       "       [0],\n",
       "       [0],\n",
       "       [0],\n",
       "       [0]])"
      ]
     },
     "execution_count": 4,
     "metadata": {},
     "output_type": "execute_result"
    }
   ],
   "source": [
    "#Check the first 10 values of the train_y data set\n",
    "y_train[0:10]"
   ]
  },
  {
   "cell_type": "code",
   "execution_count": 5,
   "metadata": {},
   "outputs": [],
   "source": [
    "#Convert input variables to a 2-D array with float data type\n",
    "X_train = np.array(X_train)\n",
    "X_test = np.array(X_test)\n",
    "\n",
    "X_train = X_train.astype(np.float32)\n",
    "X_test = X_test.astype(np.float32)"
   ]
  },
  {
   "cell_type": "code",
   "execution_count": 6,
   "metadata": {},
   "outputs": [
    {
     "data": {
      "text/plain": [
       "array([[ -3.,  -3.,  -2., ...,  -5.,  -3.,  -7.],\n",
       "       [  0.,   1.,  -1., ...,  10.,  12.,  15.],\n",
       "       [ -3.,  -2.,  -2., ...,  14.,  12.,  12.],\n",
       "       ...,\n",
       "       [  2.,   6.,   8., ...,  -2.,   1.,   0.],\n",
       "       [ -2.,   1.,  -1., ..., -19., -21., -14.],\n",
       "       [  2.,   1.,   3., ...,   0.,   2.,   4.]], dtype=float32)"
      ]
     },
     "execution_count": 6,
     "metadata": {},
     "output_type": "execute_result"
    }
   ],
   "source": [
    "X_train"
   ]
  },
  {
   "cell_type": "code",
   "execution_count": 7,
   "metadata": {},
   "outputs": [],
   "source": [
    "#Keras expects a different input format:\n",
    "#Data needs to have 3 dimensions\n",
    "\n",
    "X_train = np.reshape(X_train, (X_train.shape[0], X_train.shape[1], 1))\n",
    "X_test = np.reshape(X_test, (X_test.shape[0], X_test.shape[1], 1))"
   ]
  },
  {
   "cell_type": "code",
   "execution_count": 8,
   "metadata": {},
   "outputs": [
    {
     "data": {
      "text/plain": [
       "((861, 36, 1), (861, 1))"
      ]
     },
     "execution_count": 8,
     "metadata": {},
     "output_type": "execute_result"
    }
   ],
   "source": [
    "X_train.shape, y_train.shape"
   ]
  },
  {
   "cell_type": "code",
   "execution_count": 9,
   "metadata": {},
   "outputs": [
    {
     "data": {
      "text/plain": [
       "array([[[ -3.],\n",
       "        [ -3.],\n",
       "        [ -2.],\n",
       "        ...,\n",
       "        [ -5.],\n",
       "        [ -3.],\n",
       "        [ -7.]],\n",
       "\n",
       "       [[  0.],\n",
       "        [  1.],\n",
       "        [ -1.],\n",
       "        ...,\n",
       "        [ 10.],\n",
       "        [ 12.],\n",
       "        [ 15.]],\n",
       "\n",
       "       [[ -3.],\n",
       "        [ -2.],\n",
       "        [ -2.],\n",
       "        ...,\n",
       "        [ 14.],\n",
       "        [ 12.],\n",
       "        [ 12.]],\n",
       "\n",
       "       ...,\n",
       "\n",
       "       [[  2.],\n",
       "        [  6.],\n",
       "        [  8.],\n",
       "        ...,\n",
       "        [ -2.],\n",
       "        [  1.],\n",
       "        [  0.]],\n",
       "\n",
       "       [[ -2.],\n",
       "        [  1.],\n",
       "        [ -1.],\n",
       "        ...,\n",
       "        [-19.],\n",
       "        [-21.],\n",
       "        [-14.]],\n",
       "\n",
       "       [[  2.],\n",
       "        [  1.],\n",
       "        [  3.],\n",
       "        ...,\n",
       "        [  0.],\n",
       "        [  2.],\n",
       "        [  4.]]], dtype=float32)"
      ]
     },
     "execution_count": 9,
     "metadata": {},
     "output_type": "execute_result"
    }
   ],
   "source": [
    "X_train"
   ]
  },
  {
   "attachments": {},
   "cell_type": "markdown",
   "metadata": {},
   "source": [
    "# GRU with one layer"
   ]
  },
  {
   "cell_type": "code",
   "execution_count": 10,
   "metadata": {},
   "outputs": [],
   "source": [
    "n_steps = 36\n",
    "n_inputs = 1\n",
    "\n",
    "model = keras.models.Sequential([\n",
    "    keras.layers.GRU(32, input_shape=[n_steps, n_inputs]),\n",
    "    keras.layers.Dense(1, activation='sigmoid')\n",
    "])"
   ]
  },
  {
   "cell_type": "code",
   "execution_count": 11,
   "metadata": {
    "scrolled": true
   },
   "outputs": [
    {
     "name": "stdout",
     "output_type": "stream",
     "text": [
      "Epoch 1/20\n",
      "27/27 [==============================] - 2s 29ms/step - loss: 0.4295 - accuracy: 0.7956 - val_loss: 0.3869 - val_accuracy: 0.8320\n",
      "Epoch 2/20\n",
      "27/27 [==============================] - 0s 16ms/step - loss: 0.4161 - accuracy: 0.7956 - val_loss: 0.3914 - val_accuracy: 0.8130\n",
      "Epoch 3/20\n",
      "27/27 [==============================] - 0s 16ms/step - loss: 0.4177 - accuracy: 0.7991 - val_loss: 0.3891 - val_accuracy: 0.8320\n",
      "Epoch 4/20\n",
      "27/27 [==============================] - 0s 16ms/step - loss: 0.4113 - accuracy: 0.7886 - val_loss: 0.3803 - val_accuracy: 0.8320\n",
      "Epoch 5/20\n",
      "27/27 [==============================] - 0s 16ms/step - loss: 0.4097 - accuracy: 0.7979 - val_loss: 0.3894 - val_accuracy: 0.8320\n",
      "Epoch 6/20\n",
      "27/27 [==============================] - 0s 16ms/step - loss: 0.4067 - accuracy: 0.7967 - val_loss: 0.4068 - val_accuracy: 0.8266\n",
      "Epoch 7/20\n",
      "27/27 [==============================] - 0s 16ms/step - loss: 0.4041 - accuracy: 0.8002 - val_loss: 0.3969 - val_accuracy: 0.8157\n",
      "Epoch 8/20\n",
      "27/27 [==============================] - 0s 16ms/step - loss: 0.4062 - accuracy: 0.7979 - val_loss: 0.4073 - val_accuracy: 0.8238\n",
      "Epoch 9/20\n",
      "27/27 [==============================] - 0s 16ms/step - loss: 0.4000 - accuracy: 0.8037 - val_loss: 0.4090 - val_accuracy: 0.8211\n",
      "Epoch 9: early stopping\n"
     ]
    }
   ],
   "source": [
    "from tensorflow.keras.callbacks import EarlyStopping\n",
    "\n",
    "early_stop = EarlyStopping(monitor='val_loss', patience=5, verbose=1, mode='auto')\n",
    "\n",
    "np.random.seed(42)\n",
    "tf.random.set_seed(42)\n",
    "\n",
    "optimizer = keras.optimizers.Nadam(learning_rate=0.01)\n",
    "\n",
    "model.compile(loss=\"binary_crossentropy\", optimizer=optimizer, metrics=['accuracy'])\n",
    "\n",
    "history = model.fit(\n",
    "    X_train, \n",
    "    y_train, \n",
    "    epochs=20,\n",
    "    validation_data=(X_test, y_test),\n",
    "    callbacks=[early_stop]) # we defined this early_stop callback function earlier"
   ]
  },
  {
   "cell_type": "code",
   "execution_count": 12,
   "metadata": {},
   "outputs": [
    {
     "data": {
      "text/plain": [
       "[0.40902820229530334, 0.8211382031440735]"
      ]
     },
     "execution_count": 12,
     "metadata": {},
     "output_type": "execute_result"
    }
   ],
   "source": [
    "# evaluate the model\n",
    "\n",
    "scores = model.evaluate(X_test, y_test, verbose=0)\n",
    "scores\n",
    "\n",
    "# In results, first is loss, second is accuracy"
   ]
  },
  {
   "cell_type": "code",
   "execution_count": 13,
   "metadata": {
    "scrolled": true
   },
   "outputs": [
    {
     "name": "stdout",
     "output_type": "stream",
     "text": [
      "loss: 0.41\n",
      "accuracy: 82.11\n"
     ]
    }
   ],
   "source": [
    "# extract the accuracy from model.evaluate\n",
    "print(f\"{model.metrics_names[0]:s}: {scores[0]:.2f}\")\n",
    "print(f\"{model.metrics_names[1]:s}: {scores[1]*100:.2f}\")"
   ]
  },
  {
   "cell_type": "code",
   "execution_count": 14,
   "metadata": {},
   "outputs": [
    {
     "name": "stdout",
     "output_type": "stream",
     "text": [
      "12/12 [==============================] - 0s 4ms/step\n"
     ]
    }
   ],
   "source": [
    "# Predictions are probabilities.\n",
    "y_pred = model.predict(X_test)"
   ]
  },
  {
   "cell_type": "code",
   "execution_count": 15,
   "metadata": {},
   "outputs": [
    {
     "name": "stdout",
     "output_type": "stream",
     "text": [
      "              precision    recall  f1-score   support\n",
      "\n",
      "           0       0.83      0.76      0.79       167\n",
      "           1       0.81      0.87      0.84       202\n",
      "\n",
      "    accuracy                           0.82       369\n",
      "   macro avg       0.82      0.82      0.82       369\n",
      "weighted avg       0.82      0.82      0.82       369\n",
      "\n"
     ]
    }
   ],
   "source": [
    "from sklearn.metrics import classification_report\n",
    "print(classification_report(y_test,np.round(y_pred)))"
   ]
  },
  {
   "cell_type": "code",
   "execution_count": 16,
   "metadata": {},
   "outputs": [
    {
     "data": {
      "text/plain": [
       "<sklearn.metrics._plot.confusion_matrix.ConfusionMatrixDisplay at 0x20f31792640>"
      ]
     },
     "execution_count": 16,
     "metadata": {},
     "output_type": "execute_result"
    },
    {
     "data": {
      "image/png": "[encoded data removed]",
      "text/plain": [
       "<Figure size 640x480 with 2 Axes>"
      ]
     },
     "metadata": {},
     "output_type": "display_data"
    }
   ],
   "source": [
    "from sklearn.metrics import confusion_matrix\n",
    "from sklearn.metrics import ConfusionMatrixDisplay\n",
    "c = confusion_matrix(y_test, np.round(y_pred))\n",
    "disp = ConfusionMatrixDisplay(c)\n",
    "disp.plot(cmap='Blues')"
   ]
  },
  {
   "attachments": {},
   "cell_type": "markdown",
   "metadata": {},
   "source": [
    "# GRU with more layers"
   ]
  },
  {
   "cell_type": "code",
   "execution_count": 17,
   "metadata": {},
   "outputs": [],
   "source": [
    "n_steps = 36\n",
    "n_inputs = 1\n",
    "\n",
    "model = keras.models.Sequential([\n",
    "    keras.layers.GRU(32, return_sequences=True, input_shape=[n_steps, n_inputs]),\n",
    "    keras.layers.GRU(32, return_sequences=True),\n",
    "    keras.layers.GRU(32),\n",
    "    keras.layers.Dense(1, activation='sigmoid')\n",
    "])"
   ]
  },
  {
   "cell_type": "code",
   "execution_count": 18,
   "metadata": {
    "scrolled": true
   },
   "outputs": [
    {
     "name": "stdout",
     "output_type": "stream",
     "text": [
      "Epoch 1/20\n",
      "27/27 [==============================] - 7s 82ms/step - loss: 0.4544 - accuracy: 0.7921 - val_loss: 0.3937 - val_accuracy: 0.8157\n",
      "Epoch 2/20\n",
      "27/27 [==============================] - 1s 47ms/step - loss: 0.4264 - accuracy: 0.7875 - val_loss: 0.4052 - val_accuracy: 0.8184\n",
      "Epoch 3/20\n",
      "27/27 [==============================] - 1s 47ms/step - loss: 0.4232 - accuracy: 0.8002 - val_loss: 0.4074 - val_accuracy: 0.8211\n",
      "Epoch 4/20\n",
      "27/27 [==============================] - 1s 50ms/step - loss: 0.4207 - accuracy: 0.7875 - val_loss: 0.3866 - val_accuracy: 0.8347\n",
      "Epoch 5/20\n",
      "27/27 [==============================] - 1s 49ms/step - loss: 0.4192 - accuracy: 0.8014 - val_loss: 0.4006 - val_accuracy: 0.8130\n",
      "Epoch 6/20\n",
      "27/27 [==============================] - 1s 48ms/step - loss: 0.4171 - accuracy: 0.7967 - val_loss: 0.4173 - val_accuracy: 0.8130\n",
      "Epoch 7/20\n",
      "27/27 [==============================] - 1s 46ms/step - loss: 0.4095 - accuracy: 0.7898 - val_loss: 0.4030 - val_accuracy: 0.8401\n",
      "Epoch 8/20\n",
      "27/27 [==============================] - 1s 44ms/step - loss: 0.4147 - accuracy: 0.7805 - val_loss: 0.4189 - val_accuracy: 0.8103\n",
      "Epoch 9/20\n",
      "27/27 [==============================] - 1s 44ms/step - loss: 0.4032 - accuracy: 0.7967 - val_loss: 0.4250 - val_accuracy: 0.8130\n",
      "Epoch 9: early stopping\n"
     ]
    }
   ],
   "source": [
    "np.random.seed(42)\n",
    "tf.random.set_seed(42)\n",
    "\n",
    "optimizer = keras.optimizers.Nadam(learning_rate=0.01)\n",
    "\n",
    "model.compile(loss=\"binary_crossentropy\", optimizer=optimizer, metrics=['accuracy'])\n",
    "\n",
    "history = model.fit(\n",
    "    X_train, \n",
    "    y_train, \n",
    "    epochs=20,\n",
    "    validation_data=(X_test, y_test), \n",
    "    callbacks=[early_stop] # we defined this early_stop callback function earlier\n",
    ")"
   ]
  },
  {
   "cell_type": "code",
   "execution_count": 19,
   "metadata": {},
   "outputs": [
    {
     "data": {
      "text/plain": [
       "[0.424969881772995, 0.8130081295967102]"
      ]
     },
     "execution_count": 19,
     "metadata": {},
     "output_type": "execute_result"
    }
   ],
   "source": [
    "# evaluate the model\n",
    "\n",
    "scores = model.evaluate(X_test, y_test, verbose=0)\n",
    "scores\n",
    "\n",
    "# In results, first is loss, second is accuracy"
   ]
  },
  {
   "cell_type": "code",
   "execution_count": 20,
   "metadata": {
    "scrolled": true
   },
   "outputs": [
    {
     "name": "stdout",
     "output_type": "stream",
     "text": [
      "loss: 0.42\n",
      "accuracy: 81.30%\n"
     ]
    }
   ],
   "source": [
    "# extract the accuracy from model.evaluate\n",
    "\n",
    "print(\"%s: %.2f\" % (model.metrics_names[0], scores[0]))\n",
    "print(\"%s: %.2f%%\" % (model.metrics_names[1], scores[1]*100))\n"
   ]
  },
  {
   "cell_type": "code",
   "execution_count": 21,
   "metadata": {},
   "outputs": [
    {
     "name": "stdout",
     "output_type": "stream",
     "text": [
      "12/12 [==============================] - 1s 11ms/step\n"
     ]
    }
   ],
   "source": [
    "# Predictions are probabilities.\n",
    "y_pred = model.predict(X_test)"
   ]
  },
  {
   "cell_type": "code",
   "execution_count": 22,
   "metadata": {},
   "outputs": [
    {
     "name": "stdout",
     "output_type": "stream",
     "text": [
      "              precision    recall  f1-score   support\n",
      "\n",
      "           0       0.85      0.71      0.78       167\n",
      "           1       0.79      0.90      0.84       202\n",
      "\n",
      "    accuracy                           0.81       369\n",
      "   macro avg       0.82      0.80      0.81       369\n",
      "weighted avg       0.82      0.81      0.81       369\n",
      "\n"
     ]
    }
   ],
   "source": [
    "from sklearn.metrics import classification_report\n",
    "print(classification_report(y_test,np.round(y_pred)))"
   ]
  },
  {
   "cell_type": "code",
   "execution_count": 23,
   "metadata": {},
   "outputs": [
    {
     "data": {
      "text/plain": [
       "<sklearn.metrics._plot.confusion_matrix.ConfusionMatrixDisplay at 0x20f36d8f7c0>"
      ]
     },
     "execution_count": 23,
     "metadata": {},
     "output_type": "execute_result"
    },
    {
     "data": {
      "image/png": "[encoded data removed]",
      "text/plain": [
       "<Figure size 640x480 with 2 Axes>"
      ]
     },
     "metadata": {},
     "output_type": "display_data"
    }
   ],
   "source": [
    "from sklearn.metrics import confusion_matrix\n",
    "from sklearn.metrics import ConfusionMatrixDisplay\n",
    "c = confusion_matrix(y_test, np.round(y_pred))\n",
    "disp = ConfusionMatrixDisplay(c)\n",
    "disp.plot(cmap='Blues')"
   ]
  }
 ],
 "metadata": {
  "kernelspec": {
   "display_name": "Python 3 (ipykernel)",
   "language": "python",
   "name": "python3"
  },
  "language_info": {
   "codemirror_mode": {
    "name": "ipython",
    "version": 3
   },
   "file_extension": ".py",
   "mimetype": "text/x-python",
   "name": "python",
   "nbconvert_exporter": "python",
   "pygments_lexer": "ipython3",
   "version": "3.9.13"
  },
  "nav_menu": {},
  "toc": {
   "base_numbering": 1,
   "nav_menu": {},
   "number_sections": false,
   "sideBar": true,
   "skip_h1_title": false,
   "title_cell": "Table of Contents",
   "title_sidebar": "Contents",
   "toc_cell": false,
   "toc_position": {
    "height": "calc(100% - 180px)",
    "left": "10px",
    "top": "150px",
    "width": "288px"
   },
   "toc_section_display": "block",
   "toc_window_display": true
  },
  "varInspector": {
   "cols": {
    "lenName": 16,
    "lenType": 16,
    "lenVar": 40
   },
   "kernels_config": {
    "python": {
     "delete_cmd_postfix": "",
     "delete_cmd_prefix": "del ",
     "library": "var_list.py",
     "varRefreshCmd": "print(var_dic_list())"
    },
    "r": {
     "delete_cmd_postfix": ") ",
     "delete_cmd_prefix": "rm(",
     "library": "var_list.r",
     "varRefreshCmd": "cat(var_dic_list()) "
    }
   },
   "types_to_exclude": [
    "module",
    "function",
    "builtin_function_or_method",
    "instance",
    "_Feature"
   ],
   "window_display": false
  }
 },
 "nbformat": 4,
 "nbformat_minor": 1
}
