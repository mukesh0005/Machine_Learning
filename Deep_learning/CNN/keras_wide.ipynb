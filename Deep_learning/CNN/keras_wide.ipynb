{
 "cells": [
  {
   "attachments": {},
   "cell_type": "markdown",
   "metadata": {
    "id": "w0tyra0NWJvI"
   },
   "source": [
    "# MNIST machine learning exercise\n",
    "\n",
    "In this exercise we will demonstrate the use of Keras and Keras Tune to identify a feedforward neural network that best predicts the a handwritten digit. \n",
    "\n",
    "We use the MNIST data set;\n",
    "\n",
    "![mnist data](https://upload.wikimedia.org/wikipedia/commons/2/27/MnistExamples.png)"
   ]
  },
  {
   "attachments": {},
   "cell_type": "markdown",
   "metadata": {
    "tags": []
   },
   "source": [
    "# 1.0 Load and explore data (shouldn't need any transformations)"
   ]
  },
  {
   "attachments": {},
   "cell_type": "markdown",
   "metadata": {},
   "source": [
    "For repeatability, set random seed for both numpy and tensorflow."
   ]
  },
  {
   "cell_type": "code",
   "execution_count": 1,
   "metadata": {
    "id": "48VnFR9cXFP0"
   },
   "outputs": [],
   "source": [
    "import numpy as np\n",
    "import tensorflow as tf\n",
    "\n",
    "np.random.seed(1)\n",
    "tf.random.set_seed(1)"
   ]
  },
  {
   "attachments": {},
   "cell_type": "markdown",
   "metadata": {},
   "source": [
    "Load the MNIST digits dataset. It's originally from UCI machine learning library, but included in SKLearn."
   ]
  },
  {
   "cell_type": "code",
   "execution_count": 2,
   "metadata": {
    "colab": {
     "base_uri": "https://localhost:8080/",
     "height": 34
    },
    "id": "M8CjaVlYW2Jx",
    "outputId": "e90a4dd3-3781-477f-b02f-97ac3e75be91"
   },
   "outputs": [],
   "source": [
    "from sklearn import datasets\n",
    "\n",
    "mnist = datasets.load_digits() # sklearn includes this data set .. https://archive.ics.uci.edu/ml/datasets/Optical+Recognition+of+Handwritten+Digits"
   ]
  },
  {
   "cell_type": "code",
   "execution_count": 3,
   "metadata": {
    "tags": []
   },
   "outputs": [
    {
     "data": {
      "text/plain": [
       "sklearn.utils.Bunch"
      ]
     },
     "execution_count": 3,
     "metadata": {},
     "output_type": "execute_result"
    }
   ],
   "source": [
    "type(mnist)"
   ]
  },
  {
   "attachments": {},
   "cell_type": "markdown",
   "metadata": {},
   "source": [
    "Notice that the dataset is stored in a Bunch type (see sklearn https://scikit-learn.org/stable/modules/generated/sklearn.utils.Bunch.html)\n",
    "\n",
    "We can view this dataset as similar to a dictionary; we can look at all the keys by doing the following:"
   ]
  },
  {
   "cell_type": "code",
   "execution_count": 4,
   "metadata": {
    "colab": {
     "base_uri": "https://localhost:8080/",
     "height": 34
    },
    "id": "5pPXrazAfUoL",
    "outputId": "593b0df0-7b98-4c9b-e01d-36930d653723"
   },
   "outputs": [
    {
     "data": {
      "text/plain": [
       "dict_keys(['data', 'target', 'frame', 'feature_names', 'target_names', 'images', 'DESCR'])"
      ]
     },
     "execution_count": 4,
     "metadata": {},
     "output_type": "execute_result"
    }
   ],
   "source": [
    "mnist.keys()"
   ]
  },
  {
   "attachments": {},
   "cell_type": "markdown",
   "metadata": {},
   "source": [
    "Note thjat there are 1797 images."
   ]
  },
  {
   "attachments": {},
   "cell_type": "markdown",
   "metadata": {},
   "source": [
    "Images are 8x8 grid of values epresenting the gray level for each pixel (16 levels of grey -- from 0 (black) to 15 (white)). "
   ]
  },
  {
   "cell_type": "code",
   "execution_count": 5,
   "metadata": {
    "colab": {
     "base_uri": "https://localhost:8080/",
     "height": 153
    },
    "id": "B0ZaSvLlfva0",
    "outputId": "7735e16a-6f2e-41cd-e4e3-55c1dbd5a89d"
   },
   "outputs": [
    {
     "data": {
      "text/plain": [
       "array([[ 0.,  0.,  5., 13.,  9.,  1.,  0.,  0.],\n",
       "       [ 0.,  0., 13., 15., 10., 15.,  5.,  0.],\n",
       "       [ 0.,  3., 15.,  2.,  0., 11.,  8.,  0.],\n",
       "       [ 0.,  4., 12.,  0.,  0.,  8.,  8.,  0.],\n",
       "       [ 0.,  5.,  8.,  0.,  0.,  9.,  8.,  0.],\n",
       "       [ 0.,  4., 11.,  0.,  1., 12.,  7.,  0.],\n",
       "       [ 0.,  2., 14.,  5., 10., 12.,  0.,  0.],\n",
       "       [ 0.,  0.,  6., 13., 10.,  0.,  0.,  0.]])"
      ]
     },
     "execution_count": 5,
     "metadata": {},
     "output_type": "execute_result"
    }
   ],
   "source": [
    "mnist.images[0]"
   ]
  },
  {
   "attachments": {},
   "cell_type": "markdown",
   "metadata": {},
   "source": [
    "To analyze this, we simple turn this into a one dimensional array (so we will x1, x2, ... x63, x64). This has already been done for us, and is stored in the data key."
   ]
  },
  {
   "cell_type": "code",
   "execution_count": 6,
   "metadata": {
    "colab": {
     "base_uri": "https://localhost:8080/",
     "height": 102
    },
    "id": "sjDP19CWfT6S",
    "outputId": "f3643de4-6fc9-4810-d5d5-21fb633970fa"
   },
   "outputs": [
    {
     "data": {
      "text/plain": [
       "array([ 0.,  0.,  5., 13.,  9.,  1.,  0.,  0.,  0.,  0., 13., 15., 10.,\n",
       "       15.,  5.,  0.,  0.,  3., 15.,  2.,  0., 11.,  8.,  0.,  0.,  4.,\n",
       "       12.,  0.,  0.,  8.,  8.,  0.,  0.,  5.,  8.,  0.,  0.,  9.,  8.,\n",
       "        0.,  0.,  4., 11.,  0.,  1., 12.,  7.,  0.,  0.,  2., 14.,  5.,\n",
       "       10., 12.,  0.,  0.,  0.,  0.,  6., 13., 10.,  0.,  0.,  0.])"
      ]
     },
     "execution_count": 6,
     "metadata": {},
     "output_type": "execute_result"
    }
   ],
   "source": [
    "mnist.data[0]"
   ]
  },
  {
   "attachments": {},
   "cell_type": "markdown",
   "metadata": {},
   "source": [
    "If we want the number of images, we can use the len function."
   ]
  },
  {
   "cell_type": "code",
   "execution_count": 7,
   "metadata": {
    "colab": {
     "base_uri": "https://localhost:8080/",
     "height": 34
    },
    "id": "rTQ7qNp4ffaW",
    "outputId": "3d267533-ac01-4747-abee-369aae5d3d79"
   },
   "outputs": [
    {
     "name": "stdout",
     "output_type": "stream",
     "text": [
      "1797\n"
     ]
    }
   ],
   "source": [
    "print(len(mnist.data))"
   ]
  },
  {
   "attachments": {},
   "cell_type": "markdown",
   "metadata": {},
   "source": [
    "And, for each image we have a target value"
   ]
  },
  {
   "cell_type": "code",
   "execution_count": 8,
   "metadata": {
    "tags": []
   },
   "outputs": [
    {
     "name": "stdout",
     "output_type": "stream",
     "text": [
      "1797\n"
     ]
    }
   ],
   "source": [
    "print(len(mnist.target))"
   ]
  },
  {
   "attachments": {},
   "cell_type": "markdown",
   "metadata": {},
   "source": [
    "To identify any issues with data imbalance, let's look at the number of observations for each digit "
   ]
  },
  {
   "cell_type": "code",
   "execution_count": 9,
   "metadata": {
    "tags": []
   },
   "outputs": [
    {
     "data": {
      "text/plain": [
       "Counter({0: 178,\n",
       "         1: 182,\n",
       "         2: 177,\n",
       "         3: 183,\n",
       "         4: 181,\n",
       "         5: 182,\n",
       "         6: 181,\n",
       "         7: 179,\n",
       "         8: 174,\n",
       "         9: 180})"
      ]
     },
     "execution_count": 9,
     "metadata": {},
     "output_type": "execute_result"
    }
   ],
   "source": [
    "import collections\n",
    "\n",
    "counts = collections.Counter(mnist.target)\n",
    "counts"
   ]
  },
  {
   "attachments": {},
   "cell_type": "markdown",
   "metadata": {},
   "source": [
    "We can also look at this as a barplot to visualize the data balance..."
   ]
  },
  {
   "cell_type": "code",
   "execution_count": 10,
   "metadata": {
    "tags": []
   },
   "outputs": [
    {
     "data": {
      "image/png": "[encoded data removed]",
      "text/plain": [
       "<Figure size 700x350 with 1 Axes>"
      ]
     },
     "metadata": {},
     "output_type": "display_data"
    }
   ],
   "source": [
    "from matplotlib import pyplot as plt\n",
    "\n",
    "# Set the figure size\n",
    "plt.rcParams[\"figure.figsize\"] = [7.00, 3.50]\n",
    "plt.rcParams[\"figure.autolayout\"] = True\n",
    "\n",
    "# Plot bar chart with data points\n",
    "plt.bar(counts.keys(), counts.values())\n",
    "\n",
    "# Display the plot\n",
    "plt.show()"
   ]
  },
  {
   "attachments": {},
   "cell_type": "markdown",
   "metadata": {},
   "source": [
    "We can use matplotlib to display a sample of these images from the data."
   ]
  },
  {
   "cell_type": "code",
   "execution_count": 50,
   "metadata": {
    "colab": {
     "base_uri": "https://localhost:8080/",
     "height": 1000
    },
    "id": "qW162_28WC60",
    "outputId": "c7bf771d-ebd1-4a42-e9e4-719d243b814a"
   },
   "outputs": [
    {
     "data": {
      "image/png": "[encoded data removed]",
      "text/plain": [
       "<Figure size 700x350 with 1 Axes>"
      ]
     },
     "metadata": {},
     "output_type": "display_data"
    },
    {
     "data": {
      "image/png": "[encoded data removed]",
      "text/plain": [
       "<Figure size 700x350 with 1 Axes>"
      ]
     },
     "metadata": {},
     "output_type": "display_data"
    },
    {
     "data": {
      "image/png": "[encoded data removed]",
      "text/plain": [
       "<Figure size 700x350 with 1 Axes>"
      ]
     },
     "metadata": {},
     "output_type": "display_data"
    },
    {
     "data": {
      "image/png": "[encoded data removed]",
      "text/plain": [
       "<Figure size 700x350 with 1 Axes>"
      ]
     },
     "metadata": {},
     "output_type": "display_data"
    }
   ],
   "source": [
    "for i in np.random.choice(range(0,len(mnist.images)), 4): # choose 4 at random\n",
    "    plt.imshow(mnist.images[i], cmap='Greens')\n",
    "    plt.show()"
   ]
  },
  {
   "attachments": {},
   "cell_type": "markdown",
   "metadata": {},
   "source": [
    "# 2.0 Model data using Keras sequential neural networks"
   ]
  },
  {
   "attachments": {},
   "cell_type": "markdown",
   "metadata": {},
   "source": [
    "Split data into training and test sets"
   ]
  },
  {
   "cell_type": "code",
   "execution_count": 12,
   "metadata": {},
   "outputs": [],
   "source": [
    "from sklearn.model_selection import train_test_split\n",
    "\n",
    "X_train, X_test, y_train, y_test = train_test_split(mnist.data, mnist.target, test_size=0.2, random_state=1)"
   ]
  },
  {
   "attachments": {},
   "cell_type": "markdown",
   "metadata": {},
   "source": [
    "Create a unique log directory name (to store logs for later analysis using tensorboard)"
   ]
  },
  {
   "attachments": {},
   "cell_type": "markdown",
   "metadata": {},
   "source": [
    "## 2.1 Wide Network"
   ]
  },
  {
   "cell_type": "code",
   "execution_count": 13,
   "metadata": {},
   "outputs": [],
   "source": [
    "from tensorflow import keras\n",
    "from tensorflow.keras import layers\n",
    "\n",
    "model_wide = keras.models.Sequential()\n",
    "model_wide.add(keras.layers.Input(64))\n",
    "model_wide.add(keras.layers.Dense(256, activation=\"relu\"))\n",
    "model_wide.add(keras.layers.Dense(10, activation=\"softmax\"))"
   ]
  },
  {
   "cell_type": "code",
   "execution_count": 14,
   "metadata": {},
   "outputs": [
    {
     "name": "stdout",
     "output_type": "stream",
     "text": [
      "Model: \"sequential\"\n",
      "_________________________________________________________________\n",
      " Layer (type)                Output Shape              Param #   \n",
      "=================================================================\n",
      " dense (Dense)               (None, 256)               16640     \n",
      "                                                                 \n",
      " dense_1 (Dense)             (None, 10)                2570      \n",
      "                                                                 \n",
      "=================================================================\n",
      "Total params: 19,210\n",
      "Trainable params: 19,210\n",
      "Non-trainable params: 0\n",
      "_________________________________________________________________\n"
     ]
    }
   ],
   "source": [
    "model_wide.summary()"
   ]
  },
  {
   "cell_type": "code",
   "execution_count": 15,
   "metadata": {},
   "outputs": [],
   "source": [
    "model_wide.compile(loss=\"sparse_categorical_crossentropy\", optimizer=\"sgd\", metrics=[\"accuracy\"])"
   ]
  },
  {
   "cell_type": "code",
   "execution_count": 16,
   "metadata": {
    "tags": []
   },
   "outputs": [
    {
     "name": "stdout",
     "output_type": "stream",
     "text": [
      "Epoch 1/50\n",
      "45/45 [==============================] - 1s 7ms/step - loss: 1.8557 - accuracy: 0.7203 - val_loss: 0.2438 - val_accuracy: 0.9139\n",
      "Epoch 2/50\n",
      "45/45 [==============================] - 0s 2ms/step - loss: 0.2244 - accuracy: 0.9325 - val_loss: 0.1847 - val_accuracy: 0.9472\n",
      "Epoch 3/50\n",
      "45/45 [==============================] - 0s 2ms/step - loss: 0.1508 - accuracy: 0.9562 - val_loss: 0.1513 - val_accuracy: 0.9500\n",
      "Epoch 4/50\n",
      "45/45 [==============================] - 0s 2ms/step - loss: 0.1151 - accuracy: 0.9701 - val_loss: 0.1215 - val_accuracy: 0.9639\n",
      "Epoch 5/50\n",
      "45/45 [==============================] - 0s 2ms/step - loss: 0.0985 - accuracy: 0.9729 - val_loss: 0.1164 - val_accuracy: 0.9556\n",
      "Epoch 6/50\n",
      "45/45 [==============================] - 0s 2ms/step - loss: 0.0753 - accuracy: 0.9826 - val_loss: 0.1102 - val_accuracy: 0.9639\n",
      "Epoch 7/50\n",
      "45/45 [==============================] - 0s 2ms/step - loss: 0.0675 - accuracy: 0.9868 - val_loss: 0.1134 - val_accuracy: 0.9667\n",
      "Epoch 8/50\n",
      "45/45 [==============================] - 0s 2ms/step - loss: 0.0546 - accuracy: 0.9861 - val_loss: 0.1224 - val_accuracy: 0.9611\n",
      "Epoch 9/50\n",
      "45/45 [==============================] - 0s 2ms/step - loss: 0.0537 - accuracy: 0.9882 - val_loss: 0.0927 - val_accuracy: 0.9722\n",
      "Epoch 10/50\n",
      "45/45 [==============================] - 0s 2ms/step - loss: 0.0457 - accuracy: 0.9923 - val_loss: 0.1023 - val_accuracy: 0.9639\n",
      "Epoch 11/50\n",
      "45/45 [==============================] - 0s 2ms/step - loss: 0.0397 - accuracy: 0.9944 - val_loss: 0.1035 - val_accuracy: 0.9667\n",
      "Epoch 12/50\n",
      "45/45 [==============================] - 0s 2ms/step - loss: 0.0385 - accuracy: 0.9930 - val_loss: 0.0857 - val_accuracy: 0.9694\n",
      "Epoch 13/50\n",
      "45/45 [==============================] - 0s 2ms/step - loss: 0.0328 - accuracy: 0.9972 - val_loss: 0.0844 - val_accuracy: 0.9694\n",
      "Epoch 14/50\n",
      "45/45 [==============================] - 0s 2ms/step - loss: 0.0295 - accuracy: 0.9958 - val_loss: 0.0896 - val_accuracy: 0.9639\n",
      "Epoch 15/50\n",
      "45/45 [==============================] - 0s 2ms/step - loss: 0.0290 - accuracy: 0.9965 - val_loss: 0.0873 - val_accuracy: 0.9694\n",
      "Epoch 16/50\n",
      "45/45 [==============================] - 0s 2ms/step - loss: 0.0276 - accuracy: 0.9972 - val_loss: 0.0862 - val_accuracy: 0.9722\n",
      "Epoch 17/50\n",
      "45/45 [==============================] - 0s 2ms/step - loss: 0.0256 - accuracy: 0.9979 - val_loss: 0.0861 - val_accuracy: 0.9694\n",
      "Epoch 18/50\n",
      "45/45 [==============================] - 0s 2ms/step - loss: 0.0243 - accuracy: 0.9972 - val_loss: 0.0798 - val_accuracy: 0.9750\n",
      "Epoch 19/50\n",
      "45/45 [==============================] - 0s 3ms/step - loss: 0.0219 - accuracy: 0.9979 - val_loss: 0.0760 - val_accuracy: 0.9750\n",
      "Epoch 20/50\n",
      "45/45 [==============================] - 0s 2ms/step - loss: 0.0209 - accuracy: 0.9972 - val_loss: 0.0730 - val_accuracy: 0.9750\n",
      "Epoch 21/50\n",
      "45/45 [==============================] - 0s 2ms/step - loss: 0.0201 - accuracy: 0.9979 - val_loss: 0.0821 - val_accuracy: 0.9722\n",
      "Epoch 22/50\n",
      "45/45 [==============================] - 0s 2ms/step - loss: 0.0192 - accuracy: 0.9979 - val_loss: 0.0749 - val_accuracy: 0.9750\n",
      "Epoch 23/50\n",
      "45/45 [==============================] - 0s 2ms/step - loss: 0.0179 - accuracy: 0.9986 - val_loss: 0.0741 - val_accuracy: 0.9722\n",
      "Epoch 24/50\n",
      "45/45 [==============================] - 0s 2ms/step - loss: 0.0170 - accuracy: 0.9986 - val_loss: 0.0782 - val_accuracy: 0.9778\n",
      "Epoch 25/50\n",
      "45/45 [==============================] - 0s 2ms/step - loss: 0.0165 - accuracy: 0.9986 - val_loss: 0.0737 - val_accuracy: 0.9778\n",
      "Epoch 26/50\n",
      "45/45 [==============================] - 0s 2ms/step - loss: 0.0160 - accuracy: 0.9986 - val_loss: 0.0722 - val_accuracy: 0.9778\n",
      "Epoch 27/50\n",
      "45/45 [==============================] - 0s 2ms/step - loss: 0.0146 - accuracy: 0.9993 - val_loss: 0.0837 - val_accuracy: 0.9694\n",
      "Epoch 28/50\n",
      "45/45 [==============================] - 0s 2ms/step - loss: 0.0152 - accuracy: 0.9979 - val_loss: 0.0714 - val_accuracy: 0.9750\n",
      "Epoch 29/50\n",
      "45/45 [==============================] - 0s 2ms/step - loss: 0.0134 - accuracy: 0.9993 - val_loss: 0.0715 - val_accuracy: 0.9722\n",
      "Epoch 30/50\n",
      "45/45 [==============================] - 0s 2ms/step - loss: 0.0131 - accuracy: 1.0000 - val_loss: 0.0728 - val_accuracy: 0.9750\n",
      "Epoch 31/50\n",
      "45/45 [==============================] - 0s 2ms/step - loss: 0.0129 - accuracy: 0.9993 - val_loss: 0.0714 - val_accuracy: 0.9778\n",
      "Epoch 32/50\n",
      "45/45 [==============================] - 0s 2ms/step - loss: 0.0119 - accuracy: 1.0000 - val_loss: 0.0710 - val_accuracy: 0.9750\n",
      "Epoch 33/50\n",
      "45/45 [==============================] - 0s 2ms/step - loss: 0.0119 - accuracy: 0.9993 - val_loss: 0.0751 - val_accuracy: 0.9722\n",
      "Epoch 34/50\n",
      "45/45 [==============================] - 0s 2ms/step - loss: 0.0113 - accuracy: 1.0000 - val_loss: 0.0668 - val_accuracy: 0.9722\n",
      "Epoch 35/50\n",
      "45/45 [==============================] - 0s 2ms/step - loss: 0.0111 - accuracy: 1.0000 - val_loss: 0.0673 - val_accuracy: 0.9806\n",
      "Epoch 36/50\n",
      "45/45 [==============================] - 0s 2ms/step - loss: 0.0102 - accuracy: 1.0000 - val_loss: 0.0662 - val_accuracy: 0.9778\n",
      "Epoch 37/50\n",
      "45/45 [==============================] - 0s 2ms/step - loss: 0.0104 - accuracy: 1.0000 - val_loss: 0.0677 - val_accuracy: 0.9778\n",
      "Epoch 38/50\n",
      "45/45 [==============================] - 0s 2ms/step - loss: 0.0099 - accuracy: 1.0000 - val_loss: 0.0679 - val_accuracy: 0.9750\n",
      "Epoch 39/50\n",
      "45/45 [==============================] - 0s 2ms/step - loss: 0.0099 - accuracy: 1.0000 - val_loss: 0.0673 - val_accuracy: 0.9778\n",
      "Epoch 40/50\n",
      "45/45 [==============================] - 0s 3ms/step - loss: 0.0096 - accuracy: 1.0000 - val_loss: 0.0686 - val_accuracy: 0.9750\n",
      "Epoch 41/50\n",
      "45/45 [==============================] - 0s 2ms/step - loss: 0.0091 - accuracy: 1.0000 - val_loss: 0.0688 - val_accuracy: 0.9750\n",
      "Epoch 42/50\n",
      "45/45 [==============================] - 0s 2ms/step - loss: 0.0091 - accuracy: 1.0000 - val_loss: 0.0677 - val_accuracy: 0.9806\n",
      "Epoch 43/50\n",
      "45/45 [==============================] - 0s 2ms/step - loss: 0.0089 - accuracy: 1.0000 - val_loss: 0.0652 - val_accuracy: 0.9778\n",
      "Epoch 44/50\n",
      "45/45 [==============================] - 0s 2ms/step - loss: 0.0086 - accuracy: 1.0000 - val_loss: 0.0653 - val_accuracy: 0.9778\n",
      "Epoch 45/50\n",
      "45/45 [==============================] - 0s 2ms/step - loss: 0.0080 - accuracy: 1.0000 - val_loss: 0.0675 - val_accuracy: 0.9778\n",
      "Epoch 46/50\n",
      "45/45 [==============================] - 0s 2ms/step - loss: 0.0079 - accuracy: 1.0000 - val_loss: 0.0642 - val_accuracy: 0.9833\n",
      "Epoch 47/50\n",
      "45/45 [==============================] - 0s 2ms/step - loss: 0.0079 - accuracy: 1.0000 - val_loss: 0.0655 - val_accuracy: 0.9778\n",
      "Epoch 48/50\n",
      "45/45 [==============================] - 0s 2ms/step - loss: 0.0077 - accuracy: 1.0000 - val_loss: 0.0667 - val_accuracy: 0.9806\n",
      "Epoch 49/50\n",
      "45/45 [==============================] - 0s 2ms/step - loss: 0.0077 - accuracy: 1.0000 - val_loss: 0.0652 - val_accuracy: 0.9778\n",
      "Epoch 50/50\n",
      "45/45 [==============================] - 0s 2ms/step - loss: 0.0075 - accuracy: 1.0000 - val_loss: 0.0642 - val_accuracy: 0.9806\n"
     ]
    }
   ],
   "source": [
    "history = model_wide.fit(X_train, y_train, epochs=50, validation_data=(X_test, y_test))"
   ]
  },
  {
   "cell_type": "code",
   "execution_count": 17,
   "metadata": {
    "tags": []
   },
   "outputs": [
    {
     "name": "stdout",
     "output_type": "stream",
     "text": [
      "12/12 [==============================] - 0s 2ms/step - loss: 0.0642 - accuracy: 0.9806\n"
     ]
    }
   ],
   "source": [
    "loss, accuracy = model_wide.evaluate(X_test, y_test)"
   ]
  },
  {
   "cell_type": "code",
   "execution_count": 18,
   "metadata": {
    "tags": []
   },
   "outputs": [
    {
     "name": "stdout",
     "output_type": "stream",
     "text": [
      "Loss 0.06417\n",
      "Accuracy 0.9806\n"
     ]
    }
   ],
   "source": [
    "print(f\"Loss {loss:.5f}\\nAccuracy {accuracy:.4f}\")"
   ]
  },
  {
   "cell_type": "code",
   "execution_count": 19,
   "metadata": {
    "tags": []
   },
   "outputs": [
    {
     "name": "stdout",
     "output_type": "stream",
     "text": [
      "Model: \"sequential\"\n",
      "_________________________________________________________________\n",
      " Layer (type)                Output Shape              Param #   \n",
      "=================================================================\n",
      " dense (Dense)               (None, 256)               16640     \n",
      "                                                                 \n",
      " dense_1 (Dense)             (None, 10)                2570      \n",
      "                                                                 \n",
      "=================================================================\n",
      "Total params: 19,210\n",
      "Trainable params: 19,210\n",
      "Non-trainable params: 0\n",
      "_________________________________________________________________\n"
     ]
    }
   ],
   "source": [
    "model_wide.summary()"
   ]
  },
  {
   "cell_type": "code",
   "execution_count": 20,
   "metadata": {},
   "outputs": [
    {
     "name": "stdout",
     "output_type": "stream",
     "text": [
      "[(0, 43), (1, 35), (2, 36), (3, 41), (4, 38), (5, 30), (6, 37), (7, 37), (8, 29), (9, 34)]\n"
     ]
    }
   ],
   "source": [
    "import collections\n",
    "\n",
    "# for reference, list the frequency of each digit found in the y_test data\n",
    "print(sorted(collections.Counter(y_test).items(), key=lambda i: i[0]))"
   ]
  },
  {
   "cell_type": "code",
   "execution_count": 46,
   "metadata": {},
   "outputs": [
    {
     "name": "stdout",
     "output_type": "stream",
     "text": [
      "12/12 [==============================] - 0s 3ms/step\n"
     ]
    },
    {
     "data": {
      "image/png": "[encoded data removed]",
      "text/plain": [
       "<Figure size 700x350 with 2 Axes>"
      ]
     },
     "metadata": {},
     "output_type": "display_data"
    }
   ],
   "source": [
    "from sklearn.metrics import ConfusionMatrixDisplay\n",
    "from sklearn.metrics import confusion_matrix\n",
    "\n",
    "# display the confusion matrix\n",
    "y_pred = model_wide.predict(X_test).argmax(axis=1)\n",
    "cm = confusion_matrix(y_test, y_pred)\n",
    "disp = ConfusionMatrixDisplay(confusion_matrix=cm)\n",
    "disp.plot(cmap=plt.cm.Reds)\n",
    "plt.show()"
   ]
  },
  {
   "cell_type": "code",
   "execution_count": 22,
   "metadata": {},
   "outputs": [
    {
     "name": "stdout",
     "output_type": "stream",
     "text": [
      "              precision    recall  f1-score   support\n",
      "\n",
      "           0     1.0000    0.9767    0.9882        43\n",
      "           1     1.0000    0.9714    0.9855        35\n",
      "           2     1.0000    1.0000    1.0000        36\n",
      "           3     1.0000    0.9756    0.9877        41\n",
      "           4     0.9744    1.0000    0.9870        38\n",
      "           5     0.9375    1.0000    0.9677        30\n",
      "           6     0.9737    1.0000    0.9867        37\n",
      "           7     1.0000    0.9730    0.9863        37\n",
      "           8     0.9643    0.9310    0.9474        29\n",
      "           9     0.9429    0.9706    0.9565        34\n",
      "\n",
      "    accuracy                         0.9806       360\n",
      "   macro avg     0.9793    0.9798    0.9793       360\n",
      "weighted avg     0.9811    0.9806    0.9806       360\n",
      "\n"
     ]
    }
   ],
   "source": [
    "from sklearn.metrics import classification_report\n",
    "\n",
    "print(classification_report(y_test, y_pred, digits=4))"
   ]
  }
 ],
 "metadata": {
  "colab": {
   "authorship_tag": "ABX9TyOig4eSm144+FaPk1GKk187",
   "collapsed_sections": [],
   "include_colab_link": true,
   "name": "mnist_compete_3_models.ipynb",
   "provenance": []
  },
  "kernelspec": {
   "display_name": "Python 3 (ipykernel)",
   "language": "python",
   "name": "python3"
  },
  "language_info": {
   "codemirror_mode": {
    "name": "ipython",
    "version": 3
   },
   "file_extension": ".py",
   "mimetype": "text/x-python",
   "name": "python",
   "nbconvert_exporter": "python",
   "pygments_lexer": "ipython3",
   "version": "3.9.13"
  },
  "vscode": {
   "interpreter": {
    "hash": "b056086e24cb5602cbcb82122035cd3d6ee2ccbf5df29c16e348c108b0f83be3"
   }
  }
 },
 "nbformat": 4,
 "nbformat_minor": 4
}
