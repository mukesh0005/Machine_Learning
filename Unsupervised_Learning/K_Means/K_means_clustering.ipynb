{
 "cells": [
  {
   "attachments": {},
   "cell_type": "markdown",
   "metadata": {},
   "source": [
    "## Data Preparation"
   ]
  },
  {
   "cell_type": "code",
   "execution_count": 8,
   "metadata": {},
   "outputs": [],
   "source": [
    "# import numpy and pandas libraries\n",
    "import numpy as np\n",
    "import pandas as pd\n",
    "from sklearn.cluster import KMeans\n",
    "import matplotlib.pyplot as plt\n",
    "# set random seed to ensure that results are repeatable\n",
    "np.random.seed(1)"
   ]
  },
  {
   "attachments": {},
   "cell_type": "markdown",
   "metadata": {},
   "source": [
    "### Load data "
   ]
  },
  {
   "cell_type": "code",
   "execution_count": 2,
   "metadata": {},
   "outputs": [
    {
     "data": {
      "text/html": [
       "<div>\n",
       "<style scoped>\n",
       "    .dataframe tbody tr th:only-of-type {\n",
       "        vertical-align: middle;\n",
       "    }\n",
       "\n",
       "    .dataframe tbody tr th {\n",
       "        vertical-align: top;\n",
       "    }\n",
       "\n",
       "    .dataframe thead th {\n",
       "        text-align: right;\n",
       "    }\n",
       "</style>\n",
       "<table border=\"1\" class=\"dataframe\">\n",
       "  <thead>\n",
       "    <tr style=\"text-align: right;\">\n",
       "      <th></th>\n",
       "      <th>CustomerID</th>\n",
       "      <th>Gender</th>\n",
       "      <th>Age</th>\n",
       "      <th>Annual Income (k$)</th>\n",
       "      <th>Spending Score (1-100)</th>\n",
       "    </tr>\n",
       "  </thead>\n",
       "  <tbody>\n",
       "    <tr>\n",
       "      <th>0</th>\n",
       "      <td>1</td>\n",
       "      <td>Male</td>\n",
       "      <td>19</td>\n",
       "      <td>15</td>\n",
       "      <td>39</td>\n",
       "    </tr>\n",
       "    <tr>\n",
       "      <th>1</th>\n",
       "      <td>2</td>\n",
       "      <td>Male</td>\n",
       "      <td>21</td>\n",
       "      <td>15</td>\n",
       "      <td>81</td>\n",
       "    </tr>\n",
       "    <tr>\n",
       "      <th>2</th>\n",
       "      <td>3</td>\n",
       "      <td>Female</td>\n",
       "      <td>20</td>\n",
       "      <td>16</td>\n",
       "      <td>6</td>\n",
       "    </tr>\n",
       "  </tbody>\n",
       "</table>\n",
       "</div>"
      ],
      "text/plain": [
       "   CustomerID  Gender  Age  Annual Income (k$)  Spending Score (1-100)\n",
       "0           1    Male   19                  15                      39\n",
       "1           2    Male   21                  15                      81\n",
       "2           3  Female   20                  16                       6"
      ]
     },
     "execution_count": 2,
     "metadata": {},
     "output_type": "execute_result"
    }
   ],
   "source": [
    "# load data\n",
    "mc = pd.read_csv(\"Mall_Customers.csv\")\n",
    "mc.head(3)"
   ]
  },
  {
   "attachments": {},
   "cell_type": "markdown",
   "metadata": {},
   "source": [
    "### EDA"
   ]
  },
  {
   "cell_type": "code",
   "execution_count": 3,
   "metadata": {},
   "outputs": [
    {
     "name": "stdout",
     "output_type": "stream",
     "text": [
      "<class 'pandas.core.frame.DataFrame'>\n",
      "RangeIndex: 200 entries, 0 to 199\n",
      "Data columns (total 5 columns):\n",
      " #   Column                  Non-Null Count  Dtype \n",
      "---  ------                  --------------  ----- \n",
      " 0   CustomerID              200 non-null    int64 \n",
      " 1   Gender                  200 non-null    object\n",
      " 2   Age                     200 non-null    int64 \n",
      " 3   Annual Income (k$)      200 non-null    int64 \n",
      " 4   Spending Score (1-100)  200 non-null    int64 \n",
      "dtypes: int64(4), object(1)\n",
      "memory usage: 7.9+ KB\n"
     ]
    }
   ],
   "source": [
    "# generate a basic summary of the data\n",
    "mc.info()"
   ]
  },
  {
   "cell_type": "code",
   "execution_count": 4,
   "metadata": {},
   "outputs": [
    {
     "data": {
      "text/html": [
       "<style type=\"text/css\">\n",
       "#T_38433 thead>tr>th {\n",
       "  text-align: left;\n",
       "}\n",
       "#T_38433_row0_col0, #T_38433_row1_col0, #T_38433_row2_col0, #T_38433_row3_col0, #T_38433_row4_col0 {\n",
       "  text-align: left;\n",
       "  font-size: 12px;\n",
       "  vertical-align: middle;\n",
       "  width: 5%;\n",
       "  max-width: 50px;\n",
       "  min-width: 20px;\n",
       "}\n",
       "#T_38433_row0_col1, #T_38433_row1_col1, #T_38433_row2_col1, #T_38433_row3_col1, #T_38433_row4_col1 {\n",
       "  text-align: left;\n",
       "  font-size: 12px;\n",
       "  vertical-align: middle;\n",
       "  width: 15%;\n",
       "  max-width: 200px;\n",
       "  min-width: 100px;\n",
       "  word-break: break-word;\n",
       "}\n",
       "#T_38433_row0_col2, #T_38433_row1_col2, #T_38433_row2_col2, #T_38433_row3_col2, #T_38433_row4_col2 {\n",
       "  text-align: left;\n",
       "  font-size: 12px;\n",
       "  vertical-align: middle;\n",
       "  width: 30%;\n",
       "  min-width: 100px;\n",
       "}\n",
       "#T_38433_row0_col3, #T_38433_row1_col3, #T_38433_row2_col3, #T_38433_row3_col3, #T_38433_row4_col3 {\n",
       "  text-align: left;\n",
       "  font-size: 12px;\n",
       "  vertical-align: middle;\n",
       "  width: 25%;\n",
       "  min-width: 100px;\n",
       "}\n",
       "#T_38433_row0_col4, #T_38433_row1_col4, #T_38433_row2_col4, #T_38433_row3_col4, #T_38433_row4_col4 {\n",
       "  text-align: left;\n",
       "  font-size: 12px;\n",
       "  vertical-align: middle;\n",
       "  width: 20%;\n",
       "  min-width: 150px;\n",
       "}\n",
       "#T_38433_row0_col5, #T_38433_row1_col5, #T_38433_row2_col5, #T_38433_row3_col5, #T_38433_row4_col5 {\n",
       "  text-align: left;\n",
       "  font-size: 12px;\n",
       "  vertical-align: middle;\n",
       "  width: 10%;\n",
       "}\n",
       "</style>\n",
       "<table id=\"T_38433\">\n",
       "  <caption><strong>Data Frame Summary</strong><br>mc<br>Dimensions: 200 x 5<br>Duplicates: 0</caption>\n",
       "  <thead>\n",
       "    <tr>\n",
       "      <th id=\"T_38433_level0_col0\" class=\"col_heading level0 col0\" >No</th>\n",
       "      <th id=\"T_38433_level0_col1\" class=\"col_heading level0 col1\" >Variable</th>\n",
       "      <th id=\"T_38433_level0_col2\" class=\"col_heading level0 col2\" >Stats / Values</th>\n",
       "      <th id=\"T_38433_level0_col3\" class=\"col_heading level0 col3\" >Freqs / (% of Valid)</th>\n",
       "      <th id=\"T_38433_level0_col4\" class=\"col_heading level0 col4\" >Graph</th>\n",
       "      <th id=\"T_38433_level0_col5\" class=\"col_heading level0 col5\" >Missing</th>\n",
       "    </tr>\n",
       "  </thead>\n",
       "  <tbody>\n",
       "    <tr>\n",
       "      <td id=\"T_38433_row0_col0\" class=\"data row0 col0\" >1</td>\n",
       "      <td id=\"T_38433_row0_col1\" class=\"data row0 col1\" ><strong>CustomerID</strong><br>[int64]</td>\n",
       "      <td id=\"T_38433_row0_col2\" class=\"data row0 col2\" >Mean (sd) : 100.5 (57.9)<br>min < med < max:<br>1.0 < 100.5 < 200.0<br>IQR (CV) : 99.5 (1.7)</td>\n",
       "      <td id=\"T_38433_row0_col3\" class=\"data row0 col3\" >200 distinct values</td>\n",
       "      <td id=\"T_38433_row0_col4\" class=\"data row0 col4\" ><img src = \"data:image/png;base64, iVBORw0KGgoAAAANSUhEUgAAAKoAAABGCAYAAABc8A97AAAAOXRFWHRTb2Z0d2FyZQBNYXRwbG90bGliIHZlcnNpb24zLjUuMiwgaHR0cHM6Ly9tYXRwbG90bGliLm9yZy8qNh9FAAAACXBIWXMAAA9hAAAPYQGoP6dpAAABxklEQVR4nO3XQU7CYBBA4fkbJSCkDSHCAbwBSw7hYT0EJ2DhxhU7EtKUUDEarCcAKTXqS963baczixcSUtM0If132V8fIF3i5rsXUkqDiOhd+f0sIj6vnO06T91Nvbvr/HvTNIdTD8+GmlIaTCaTxzzPx223Ho/H27quH0aj0UuWZR+/OU/dTb37J+Z3u12ZUno6Fet3v6i9PM/Hi8XiUBTFW5vF6/V6vFqt7ufz+fNsNivbzHadp+6m3t11vqqq/nK5HG+3215EXBVqREQURfE2nU5f2ywvy3IQETEcDlvPdp2n7qbe/RPzETE499A/U0IwVCEYqhAMVQiGKgRDFYKhCsFQhWCoQjBUIRiqEAxVCIYqBEMVgqEKwVCFYKhCMFQhGKoQDFUIhioEQxWCoQrBUIVgqEIwVCEYqhAMVQiGKgRDFYKhCsFQhWCoQjBUIRiqEAxVCIYqBEMVgqEKwVCFYKhCMFQhGKoQDFUIhioEQxWCoQrBUIVgqEIwVCEYqhAMVQiGKgRDFYKhCsFQhWCoQjBUIRiqEAxVCIYqBEMVgqEK4eaSl6qq6rf98H6/70dE1HXd32w2d785T91Nvbvr/CV9fQGSljnmc7n3zQAAAABJRU5ErkJggg==\"></img></td>\n",
       "      <td id=\"T_38433_row0_col5\" class=\"data row0 col5\" >0<br>(0.0%)</td>\n",
       "    </tr>\n",
       "    <tr>\n",
       "      <td id=\"T_38433_row1_col0\" class=\"data row1 col0\" >2</td>\n",
       "      <td id=\"T_38433_row1_col1\" class=\"data row1 col1\" ><strong>Gender</strong><br>[object]</td>\n",
       "      <td id=\"T_38433_row1_col2\" class=\"data row1 col2\" >1. Female<br>2. Male</td>\n",
       "      <td id=\"T_38433_row1_col3\" class=\"data row1 col3\" >112 (56.0%)<br>88 (44.0%)</td>\n",
       "      <td id=\"T_38433_row1_col4\" class=\"data row1 col4\" ><img src = \"data:image/png;base64, iVBORw0KGgoAAAANSUhEUgAAAJsAAAAuCAYAAAA/ZmtKAAAAOXRFWHRTb2Z0d2FyZQBNYXRwbG90bGliIHZlcnNpb24zLjUuMiwgaHR0cHM6Ly9tYXRwbG90bGliLm9yZy8qNh9FAAAACXBIWXMAAA9hAAAPYQGoP6dpAAABOUlEQVR4nO3bQWqDQByF8TdFQrOZQQQP4yF62B5ibiPiLJqQjV1kE+K280bs9zvBH/kQEnxh2zYBDkHSVdKl9SEn9di27db6iKPohmH4ijH2rQ85o1LKEkL4JrinLsbYT9N0SyndWx9zJuu6fuac+3meL5KITVInSSml+ziOP62POaFr6wOO5KP1Afg/iA02xAYbYoMNscGG2GBDbLAhNtgQG2yIDTbEBhtigw2xwYbYYENssOmk54d+rQ85G57pXldKWXLOvfjQ78+VUhZJj9Z3HAWDl7oYvLwITPngwpttj7dRJUz53jC/q4cp3wvmd3Ux5dvjV3kl/KkLG2KDDbHBhthgQ2ywITbYEBtsiA02xAYbYoMNscGG2GBDbLAhNtgQG2yY8r3gOdTFlO8N87t6GLzsMXip5BcKW2rfwvGDvwAAAABJRU5ErkJggg==\"></img></td>\n",
       "      <td id=\"T_38433_row1_col5\" class=\"data row1 col5\" >0<br>(0.0%)</td>\n",
       "    </tr>\n",
       "    <tr>\n",
       "      <td id=\"T_38433_row2_col0\" class=\"data row2 col0\" >3</td>\n",
       "      <td id=\"T_38433_row2_col1\" class=\"data row2 col1\" ><strong>Age</strong><br>[int64]</td>\n",
       "      <td id=\"T_38433_row2_col2\" class=\"data row2 col2\" >Mean (sd) : 38.9 (14.0)<br>min < med < max:<br>18.0 < 36.0 < 70.0<br>IQR (CV) : 20.2 (2.8)</td>\n",
       "      <td id=\"T_38433_row2_col3\" class=\"data row2 col3\" >51 distinct values</td>\n",
       "      <td id=\"T_38433_row2_col4\" class=\"data row2 col4\" ><img src = \"data:image/png;base64, iVBORw0KGgoAAAANSUhEUgAAAKoAAABGCAYAAABc8A97AAAAOXRFWHRTb2Z0d2FyZQBNYXRwbG90bGliIHZlcnNpb24zLjUuMiwgaHR0cHM6Ly9tYXRwbG90bGliLm9yZy8qNh9FAAAACXBIWXMAAA9hAAAPYQGoP6dpAAACj0lEQVR4nO3cTYriQBiA4a8mrUSFBBF05wUGZuHSQ8xh5wiz8ATewJ0gIWKmgzFmVt0wYPuTSk3qK95nX3YWL239xDJN0wjgu299PwDwjLe+H+AeY8xIRIYth5+bpnnv8nnQH29DNcaMZrPZzyRJpm3GH4/HzBjzi1jD4G2oIjJMkmS6Xq/f0zQtXxmY53m82Wymh8NhKCKEGgCfQxURkTRNy/l8/qfF0FHnD4PesJiCCoQKFR5+9bPyhg/uhsrKG7549B+VlTe88NSqn5U3+ub99lRbdV0PRCQxxrT9CObXHgky1KIoBlVV/Vgul1EURS9NWT4wv/ZLkKGez+e3OI7Hq9WqXCwW2avjmV/7J8hQP0wmk7ZzaxHm115hwx8qECpUCPqrvy+c5nWPUDvGaZ4bhNo9TvMcIFRHOM3rFospqECoUIFQoQKhQgVChQqEChUIFSoQKlQgVKhAqFDB6RGq5e+Wkuv1Ouj4kaCUs1Btf7dUVVVc1/X3six/i0jbt/QRCGeh2v5uabfbTbfb7fhyuUQung+6OH97qu3vlrIs4y0ifGIxBRUIFSrw4vQXLHYs2K1wgFBvsNmxYLfCDUK9wWbHwna3gjuzbiPUO9rsWNjsVnBn1tcI1SPa78xyeZ8BoXpI451Zru8zIFR0xel9BoSKTrm6z4ANf6hAqFCBUKECc9TAWB4YeHtYQKgBsT0w8PmwgFADYnNg0PdhwSOEGiCLAwNvX1ZnMQUVCBUqECpUIFSowGIKn3y+MIRQISL+XxhCqBAR/y8MIVT8w9cLQ1hMQQVChQqEChUIFSoQKlQgVKhAqFCBUKHCUxv+eZ7Hr37w6XSKRUSKooj3+/34f47X+re1Prft+Gf6+guRZMaxJPMCIgAAAABJRU5ErkJggg==\"></img></td>\n",
       "      <td id=\"T_38433_row2_col5\" class=\"data row2 col5\" >0<br>(0.0%)</td>\n",
       "    </tr>\n",
       "    <tr>\n",
       "      <td id=\"T_38433_row3_col0\" class=\"data row3 col0\" >4</td>\n",
       "      <td id=\"T_38433_row3_col1\" class=\"data row3 col1\" ><strong>Annual Income (k$)</strong><br>[int64]</td>\n",
       "      <td id=\"T_38433_row3_col2\" class=\"data row3 col2\" >Mean (sd) : 60.6 (26.3)<br>min < med < max:<br>15.0 < 61.5 < 137.0<br>IQR (CV) : 36.5 (2.3)</td>\n",
       "      <td id=\"T_38433_row3_col3\" class=\"data row3 col3\" >64 distinct values</td>\n",
       "      <td id=\"T_38433_row3_col4\" class=\"data row3 col4\" ><img src = \"data:image/png;base64, iVBORw0KGgoAAAANSUhEUgAAAKoAAABGCAYAAABc8A97AAAAOXRFWHRTb2Z0d2FyZQBNYXRwbG90bGliIHZlcnNpb24zLjUuMiwgaHR0cHM6Ly9tYXRwbG90bGliLm9yZy8qNh9FAAAACXBIWXMAAA9hAAAPYQGoP6dpAAACxUlEQVR4nO3dP2/aQBjH8d9BiMwfGSFUsrF0rNSBkRfRF9uX0IFXwNClU7ZIEQLFDcIYd2pVKpJgHy73XL6f/YiHr6pH5/PVlWUpIHStaz8AcI6baz9AU5xzXUm3Hj+xK8vy+VLPAz9Rhuqc647H4y9pmo7q/sZms1k5574SaxiiDFXSbZqmo/l8/jwcDrdVF6/X62SxWIweHx9vJRFqAGINVZI0HA63k8nkZ83l3Ys+DLxEHeq1eM7HzMYnEOqF+c7HzManEerl1Z6PmY1fRqgN8ZiPmY1PYMMfJhAqTCBUmECoMIFQYQKhwgS2p15QFEVHUuqcq7o0PRwOnQYe6V0j1BOyLOvkef55Op222+12pU37PM+Toig+bbfbb5LqnjPAPwj1hN1ud5MkSW82m23v7u5WVdbe39+Plstlb7/ft5t6vveIUF/R7/crv11arVa8WWpA0KF6nEJiToxMsKH6nEJiToxPsKHK4xQSc2J8Qg5VUr1TSMyJ8WHDHyYQKkwgVJjw5ozKh2oIwauh8qEaQvHWv6h8qIYgnLU9VfdDtaIoUtU7gSTxdgl/aWwf1ecEksTbJRxrLFSfE0gSb5dwrPE3U3VOIEm8XcIx9lFhAqHCBEKFCYQKEwgVJhAqTCBUmECoMIFQYQKhwgRChQmEChMIFSYQKkwgVJhAqDCBUGECocIEQoUJhAoTCBUmBH8/6nvj8d8G/RblfV+EGhDfSzukeO/7ItSA+F7aEfN9X4QaoLqXdkje930FOzYQakR8R4eQxwZCjYjP6BD62ECoEfIYHYK974tQ8ccFtsZakg411746HxMqJPnPt0VRdLIs+zgYDH60Wq286vq35mNChaSL3Wf7YTabfW9iPiZUHPG9z7ap+Zh3/TCBUGECocKEs2bU9XqdVP3hp6enRJKyLEseHh56/3O91b9t9bl915/T1y+3TLPFLQW26wAAAABJRU5ErkJggg==\"></img></td>\n",
       "      <td id=\"T_38433_row3_col5\" class=\"data row3 col5\" >0<br>(0.0%)</td>\n",
       "    </tr>\n",
       "    <tr>\n",
       "      <td id=\"T_38433_row4_col0\" class=\"data row4 col0\" >5</td>\n",
       "      <td id=\"T_38433_row4_col1\" class=\"data row4 col1\" ><strong>Spending Score (1-100)</strong><br>[int64]</td>\n",
       "      <td id=\"T_38433_row4_col2\" class=\"data row4 col2\" >Mean (sd) : 50.2 (25.8)<br>min < med < max:<br>1.0 < 50.0 < 99.0<br>IQR (CV) : 38.2 (1.9)</td>\n",
       "      <td id=\"T_38433_row4_col3\" class=\"data row4 col3\" >84 distinct values</td>\n",
       "      <td id=\"T_38433_row4_col4\" class=\"data row4 col4\" ><img src = \"data:image/png;base64, iVBORw0KGgoAAAANSUhEUgAAAKoAAABGCAYAAABc8A97AAAAOXRFWHRTb2Z0d2FyZQBNYXRwbG90bGliIHZlcnNpb24zLjUuMiwgaHR0cHM6Ly9tYXRwbG90bGliLm9yZy8qNh9FAAAACXBIWXMAAA9hAAAPYQGoP6dpAAACmklEQVR4nO3cQYriQBSA4Vdj20SFBBF05wUGZuHSQ8xh5wiz8ATewJ0gEjHdwRgzq4FpcLpjlWXqlf+3rzaLnyKvOpRpmkaA0H3r+gGANl66foAYGWMGIvJqufzUNM37PZ8nBoR6Z8aYwWQy+Zmm6dhm/eFw2BtjfhHrR4R6f69pmo6Xy+V7lmXlLQvzPE9Wq9V4t9u9igih/oNQPcmyrJxOp28WSwd3f5gIEOp/OLxnppfLpX/v53l2hHqFy3tmVVVJXdffy7L8LSI2OyquINTrrN8zN5vNeL1eD8/nc8/Xwz0jQv2EzXvmfr/nHdMDDvyhAqFCBUKFCoQKFQgVKhAqVCBUqECoUIFQoQKhQgVChQqEChUIFSoQKlQgVKhAqFCBD6cjE+udAoQakZjvFCDUuER7pwChRijGOwUYpqACoUIFQoUKXt9RHY9KRAI+LsFjeQvV9ahEJOzjEjyWzx3V+qhEJPzjEjyW9+Mph6MSkYCPS/BYDFNQIdoDf8dBjjtOAxNlqK6DHHechufLUJXevOw0yHHHqR2fX259Gqr2m5dtBznuOL2d7y+3vtpRuXkZbXn9cqvVOyo3L6MtX19uRTlMwU5d130RSY0xNsu9ziSEChERKYqiX1XVj/l83uv1ejcPoL5nEkKFiIicTqeXJEmGi8WinM1m+1vX+55JCBUfjEajIE9K+BcqVGBHDUzIA02XCDUgoQ80XQo6VIfdReXOEvpA06VgQ3XZXbTvLKEONF0KNlSX3SXmneVZBRvqXza7S8w7y7PieAoqECpUIFSoQKhQgVChAqFCBUKFCoQKFQgVKhAqVCBUqECoUIFQoQKhQoVWn/nleZ7c+oePx2MiIlIURbLdboePXK/1t7U+t+v6Nn39AWGFqQyT7hsdAAAAAElFTkSuQmCC\"></img></td>\n",
       "      <td id=\"T_38433_row4_col5\" class=\"data row4 col5\" >0<br>(0.0%)</td>\n",
       "    </tr>\n",
       "  </tbody>\n",
       "</table>\n"
      ],
      "text/plain": [
       "<pandas.io.formats.style.Styler at 0x1ac30d40280>"
      ]
     },
     "execution_count": 4,
     "metadata": {},
     "output_type": "execute_result"
    }
   ],
   "source": [
    "import summarytools\n",
    "from summarytools import dfSummary\n",
    "dfSummary(mc)"
   ]
  },
  {
   "cell_type": "code",
   "execution_count": 5,
   "metadata": {},
   "outputs": [
    {
     "data": {
      "text/plain": [
       "CustomerID                0\n",
       "Gender                    0\n",
       "Age                       0\n",
       "Annual Income (k$)        0\n",
       "Spending Score (1-100)    0\n",
       "dtype: int64"
      ]
     },
     "execution_count": 5,
     "metadata": {},
     "output_type": "execute_result"
    }
   ],
   "source": [
    "# Check the missing values by summing the total na's for each variable\n",
    "mc.isna().sum()"
   ]
  },
  {
   "attachments": {},
   "cell_type": "markdown",
   "metadata": {},
   "source": [
    "### Clustering"
   ]
  },
  {
   "cell_type": "code",
   "execution_count": 15,
   "metadata": {},
   "outputs": [],
   "source": [
    "X = mc.iloc[:,[3,4]].values"
   ]
  },
  {
   "cell_type": "code",
   "execution_count": 23,
   "metadata": {},
   "outputs": [
    {
     "data": {
      "text/plain": [
       "[181363.595959596,\n",
       " 106348.3730621112,\n",
       " 73679.78903948834,\n",
       " 44448.45544793371,\n",
       " 37233.81451071001,\n",
       " 30259.65720728547,\n",
       " 25011.83934915659,\n",
       " 21850.16528258563,\n",
       " 19672.07284901432]"
      ]
     },
     "execution_count": 23,
     "metadata": {},
     "output_type": "execute_result"
    }
   ],
   "source": [
    "wc =[]\n",
    "for i in range(2,11):\n",
    "    Kmeans = KMeans(n_clusters = i, init = 'k-means++', random_state = 42)\n",
    "    Kmeans.fit(X)\n",
    "    wc.append(Kmeans.inertia_)\n",
    "wc"
   ]
  },
  {
   "cell_type": "code",
   "execution_count": 26,
   "metadata": {},
   "outputs": [
    {
     "data": {
      "text/plain": [
       "<function matplotlib.pyplot.show(close=None, block=None)>"
      ]
     },
     "execution_count": 26,
     "metadata": {},
     "output_type": "execute_result"
    },
    {
     "data": {
      "image/png": "[encoded data removed]",
      "text/plain": [
       "<Figure size 640x480 with 1 Axes>"
      ]
     },
     "metadata": {},
     "output_type": "display_data"
    }
   ],
   "source": [
    "plt.plot(wc)\n",
    "plt.xlabel('clusters')\n",
    "plt.ylabel('WCSS')\n",
    "plt.show"
   ]
  },
  {
   "attachments": {},
   "cell_type": "markdown",
   "metadata": {},
   "source": [
    "## Model"
   ]
  },
  {
   "cell_type": "code",
   "execution_count": 27,
   "metadata": {},
   "outputs": [],
   "source": [
    "Kmeans = KMeans(n_clusters = 5, max_iter= 50, random_state = 42)\n",
    "y_pred = Kmeans.fit_predict(X)"
   ]
  },
  {
   "cell_type": "code",
   "execution_count": 33,
   "metadata": {},
   "outputs": [
    {
     "data": {
      "image/png": "[encoded data removed]",
      "text/plain": [
       "<Figure size 640x480 with 1 Axes>"
      ]
     },
     "metadata": {},
     "output_type": "display_data"
    }
   ],
   "source": [
    "for i in range(0,5):\n",
    "    plt.scatter(X[y_pred == i,0],X[y_pred == i,1], s= 100, c= 'red' , label = 'cluster ')\n",
    "    plt.scatter(Kmeans.cluster_centers_[:,0],Kmeans.cluster_centers_[:,1], s= 100, c= 'yellow' , label = 'cluster ')\n",
    "    plt.show"
   ]
  }
 ],
 "metadata": {
  "kernelspec": {
   "display_name": "Python 3 (ipykernel)",
   "language": "python",
   "name": "python3"
  },
  "language_info": {
   "codemirror_mode": {
    "name": "ipython",
    "version": 3
   },
   "file_extension": ".py",
   "mimetype": "text/x-python",
   "name": "python",
   "nbconvert_exporter": "python",
   "pygments_lexer": "ipython3",
   "version": "3.9.13"
  },
  "nav_menu": {
   "height": "279px",
   "width": "309px"
  },
  "toc": {
   "base_numbering": 1,
   "nav_menu": {},
   "number_sections": false,
   "sideBar": true,
   "skip_h1_title": false,
   "title_cell": "Table of Contents",
   "title_sidebar": "Contents",
   "toc_cell": false,
   "toc_position": {
    "height": "calc(100% - 180px)",
    "left": "10px",
    "top": "150px",
    "width": "235px"
   },
   "toc_section_display": "block",
   "toc_window_display": true
  },
  "varInspector": {
   "cols": {
    "lenName": 16,
    "lenType": 16,
    "lenVar": 40
   },
   "kernels_config": {
    "python": {
     "delete_cmd_postfix": "",
     "delete_cmd_prefix": "del ",
     "library": "var_list.py",
     "varRefreshCmd": "print(var_dic_list())"
    },
    "r": {
     "delete_cmd_postfix": ") ",
     "delete_cmd_prefix": "rm(",
     "library": "var_list.r",
     "varRefreshCmd": "cat(var_dic_list()) "
    }
   },
   "types_to_exclude": [
    "module",
    "function",
    "builtin_function_or_method",
    "instance",
    "_Feature"
   ],
   "window_display": false
  },
  "vscode": {
   "interpreter": {
    "hash": "b056086e24cb5602cbcb82122035cd3d6ee2ccbf5df29c16e348c108b0f83be3"
   }
  }
 },
 "nbformat": 4,
 "nbformat_minor": 4
}
